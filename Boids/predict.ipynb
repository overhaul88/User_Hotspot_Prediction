{
 "cells": [
  {
   "cell_type": "code",
   "execution_count": 1,
   "metadata": {},
   "outputs": [],
   "source": [
    "import numpy as np\n",
    "import pandas as pd\n",
    "import tensorflow as tf\n",
    "import matplotlib.pyplot as plt\n",
    "from tensorflow.keras.models import Sequential\n",
    "from tensorflow.keras.layers import LSTM, Dense\n",
    "from sklearn.metrics import accuracy_score\n",
    "from scipy.spatial.distance import euclidean"
   ]
  },
  {
   "cell_type": "code",
   "execution_count": 4,
   "metadata": {},
   "outputs": [
    {
     "data": {
      "text/html": [
       "<div>\n",
       "<style scoped>\n",
       "    .dataframe tbody tr th:only-of-type {\n",
       "        vertical-align: middle;\n",
       "    }\n",
       "\n",
       "    .dataframe tbody tr th {\n",
       "        vertical-align: top;\n",
       "    }\n",
       "\n",
       "    .dataframe thead th {\n",
       "        text-align: right;\n",
       "    }\n",
       "</style>\n",
       "<table border=\"1\" class=\"dataframe\">\n",
       "  <thead>\n",
       "    <tr style=\"text-align: right;\">\n",
       "      <th></th>\n",
       "      <th>Time</th>\n",
       "      <th>x0</th>\n",
       "      <th>y0</th>\n",
       "      <th>x1</th>\n",
       "      <th>y1</th>\n",
       "      <th>x2</th>\n",
       "      <th>y2</th>\n",
       "      <th>x3</th>\n",
       "      <th>y3</th>\n",
       "      <th>x4</th>\n",
       "      <th>...</th>\n",
       "      <th>x45</th>\n",
       "      <th>y45</th>\n",
       "      <th>x46</th>\n",
       "      <th>y46</th>\n",
       "      <th>x47</th>\n",
       "      <th>y47</th>\n",
       "      <th>x48</th>\n",
       "      <th>y48</th>\n",
       "      <th>x49</th>\n",
       "      <th>y49</th>\n",
       "    </tr>\n",
       "  </thead>\n",
       "  <tbody>\n",
       "    <tr>\n",
       "      <th>0</th>\n",
       "      <td>0.0</td>\n",
       "      <td>2433.959333</td>\n",
       "      <td>2295.271787</td>\n",
       "      <td>1911.466420</td>\n",
       "      <td>2218.606541</td>\n",
       "      <td>2371.209331</td>\n",
       "      <td>2414.992688</td>\n",
       "      <td>1775.124512</td>\n",
       "      <td>1651.118124</td>\n",
       "      <td>1553.225253</td>\n",
       "      <td>...</td>\n",
       "      <td>2005.164134</td>\n",
       "      <td>1730.627323</td>\n",
       "      <td>1773.610424</td>\n",
       "      <td>2374.937241</td>\n",
       "      <td>2394.998281</td>\n",
       "      <td>2160.898451</td>\n",
       "      <td>1917.766332</td>\n",
       "      <td>2144.997320</td>\n",
       "      <td>2425.032897</td>\n",
       "      <td>1674.556940</td>\n",
       "    </tr>\n",
       "    <tr>\n",
       "      <th>1</th>\n",
       "      <td>1.0</td>\n",
       "      <td>2436.619569</td>\n",
       "      <td>2296.658562</td>\n",
       "      <td>1910.076864</td>\n",
       "      <td>2221.265325</td>\n",
       "      <td>2371.611297</td>\n",
       "      <td>2417.965636</td>\n",
       "      <td>1777.923735</td>\n",
       "      <td>1652.197175</td>\n",
       "      <td>1550.450505</td>\n",
       "      <td>...</td>\n",
       "      <td>2003.296774</td>\n",
       "      <td>1728.279352</td>\n",
       "      <td>1775.766207</td>\n",
       "      <td>2377.023529</td>\n",
       "      <td>2397.992069</td>\n",
       "      <td>2160.705494</td>\n",
       "      <td>1915.503860</td>\n",
       "      <td>2143.027239</td>\n",
       "      <td>2422.036411</td>\n",
       "      <td>1674.411784</td>\n",
       "    </tr>\n",
       "    <tr>\n",
       "      <th>2</th>\n",
       "      <td>2.0</td>\n",
       "      <td>2439.444319</td>\n",
       "      <td>2297.668900</td>\n",
       "      <td>1908.547040</td>\n",
       "      <td>2223.845953</td>\n",
       "      <td>2371.887595</td>\n",
       "      <td>2420.952886</td>\n",
       "      <td>1780.833696</td>\n",
       "      <td>1652.926644</td>\n",
       "      <td>1547.675758</td>\n",
       "      <td>...</td>\n",
       "      <td>2001.634679</td>\n",
       "      <td>1725.781865</td>\n",
       "      <td>1778.729669</td>\n",
       "      <td>2377.490323</td>\n",
       "      <td>2400.920355</td>\n",
       "      <td>2161.357522</td>\n",
       "      <td>1913.268694</td>\n",
       "      <td>2141.026231</td>\n",
       "      <td>2419.039740</td>\n",
       "      <td>1674.270491</td>\n",
       "    </tr>\n",
       "    <tr>\n",
       "      <th>3</th>\n",
       "      <td>3.0</td>\n",
       "      <td>2442.171719</td>\n",
       "      <td>2298.918416</td>\n",
       "      <td>1906.863527</td>\n",
       "      <td>2226.329052</td>\n",
       "      <td>2372.014863</td>\n",
       "      <td>2423.950185</td>\n",
       "      <td>1783.794535</td>\n",
       "      <td>1653.409793</td>\n",
       "      <td>1544.901011</td>\n",
       "      <td>...</td>\n",
       "      <td>2000.434411</td>\n",
       "      <td>1723.032437</td>\n",
       "      <td>1781.158543</td>\n",
       "      <td>2375.729480</td>\n",
       "      <td>2403.541913</td>\n",
       "      <td>2162.816094</td>\n",
       "      <td>1911.061174</td>\n",
       "      <td>2138.994765</td>\n",
       "      <td>2416.043067</td>\n",
       "      <td>1674.129248</td>\n",
       "    </tr>\n",
       "    <tr>\n",
       "      <th>4</th>\n",
       "      <td>4.0</td>\n",
       "      <td>2444.955961</td>\n",
       "      <td>2300.035555</td>\n",
       "      <td>1905.063551</td>\n",
       "      <td>2228.729070</td>\n",
       "      <td>2372.031485</td>\n",
       "      <td>2426.950139</td>\n",
       "      <td>1786.610800</td>\n",
       "      <td>1654.443550</td>\n",
       "      <td>1542.126263</td>\n",
       "      <td>...</td>\n",
       "      <td>1999.056551</td>\n",
       "      <td>1720.367572</td>\n",
       "      <td>1783.245457</td>\n",
       "      <td>2373.574302</td>\n",
       "      <td>2403.627776</td>\n",
       "      <td>2165.814865</td>\n",
       "      <td>1908.880288</td>\n",
       "      <td>2136.934731</td>\n",
       "      <td>2413.046394</td>\n",
       "      <td>1673.988005</td>\n",
       "    </tr>\n",
       "    <tr>\n",
       "      <th>...</th>\n",
       "      <td>...</td>\n",
       "      <td>...</td>\n",
       "      <td>...</td>\n",
       "      <td>...</td>\n",
       "      <td>...</td>\n",
       "      <td>...</td>\n",
       "      <td>...</td>\n",
       "      <td>...</td>\n",
       "      <td>...</td>\n",
       "      <td>...</td>\n",
       "      <td>...</td>\n",
       "      <td>...</td>\n",
       "      <td>...</td>\n",
       "      <td>...</td>\n",
       "      <td>...</td>\n",
       "      <td>...</td>\n",
       "      <td>...</td>\n",
       "      <td>...</td>\n",
       "      <td>...</td>\n",
       "      <td>...</td>\n",
       "      <td>...</td>\n",
       "    </tr>\n",
       "    <tr>\n",
       "      <th>595</th>\n",
       "      <td>595.0</td>\n",
       "      <td>1811.104778</td>\n",
       "      <td>3745.457281</td>\n",
       "      <td>1775.789797</td>\n",
       "      <td>2723.323702</td>\n",
       "      <td>1570.610968</td>\n",
       "      <td>3992.982754</td>\n",
       "      <td>2100.458334</td>\n",
       "      <td>2264.623271</td>\n",
       "      <td>8542.250596</td>\n",
       "      <td>...</td>\n",
       "      <td>1037.905006</td>\n",
       "      <td>840.630589</td>\n",
       "      <td>1665.483399</td>\n",
       "      <td>3583.151540</td>\n",
       "      <td>1461.001825</td>\n",
       "      <td>3032.126958</td>\n",
       "      <td>1944.522465</td>\n",
       "      <td>2507.062093</td>\n",
       "      <td>1807.723593</td>\n",
       "      <td>680.347634</td>\n",
       "    </tr>\n",
       "    <tr>\n",
       "      <th>596</th>\n",
       "      <td>596.0</td>\n",
       "      <td>1810.003789</td>\n",
       "      <td>3748.247948</td>\n",
       "      <td>1774.458102</td>\n",
       "      <td>2726.011933</td>\n",
       "      <td>1569.180909</td>\n",
       "      <td>3995.619974</td>\n",
       "      <td>2101.900819</td>\n",
       "      <td>2267.253716</td>\n",
       "      <td>8539.475848</td>\n",
       "      <td>...</td>\n",
       "      <td>1035.596710</td>\n",
       "      <td>842.546776</td>\n",
       "      <td>1664.161108</td>\n",
       "      <td>3585.844409</td>\n",
       "      <td>1463.912523</td>\n",
       "      <td>3031.400435</td>\n",
       "      <td>1946.392976</td>\n",
       "      <td>2509.407555</td>\n",
       "      <td>1806.407836</td>\n",
       "      <td>677.651566</td>\n",
       "    </tr>\n",
       "    <tr>\n",
       "      <th>597</th>\n",
       "      <td>597.0</td>\n",
       "      <td>1808.902801</td>\n",
       "      <td>3751.038616</td>\n",
       "      <td>1773.126407</td>\n",
       "      <td>2728.700165</td>\n",
       "      <td>1567.750849</td>\n",
       "      <td>3998.257194</td>\n",
       "      <td>2103.692607</td>\n",
       "      <td>2269.659853</td>\n",
       "      <td>8536.701101</td>\n",
       "      <td>...</td>\n",
       "      <td>1033.288414</td>\n",
       "      <td>844.462962</td>\n",
       "      <td>1662.838816</td>\n",
       "      <td>3588.537278</td>\n",
       "      <td>1466.823222</td>\n",
       "      <td>3030.673912</td>\n",
       "      <td>1948.263486</td>\n",
       "      <td>2511.753016</td>\n",
       "      <td>1805.092080</td>\n",
       "      <td>674.955497</td>\n",
       "    </tr>\n",
       "    <tr>\n",
       "      <th>598</th>\n",
       "      <td>598.0</td>\n",
       "      <td>1807.801812</td>\n",
       "      <td>3753.829283</td>\n",
       "      <td>1771.794712</td>\n",
       "      <td>2731.388396</td>\n",
       "      <td>1566.320790</td>\n",
       "      <td>4000.894414</td>\n",
       "      <td>2105.487970</td>\n",
       "      <td>2272.063324</td>\n",
       "      <td>8533.926354</td>\n",
       "      <td>...</td>\n",
       "      <td>1030.980119</td>\n",
       "      <td>846.379149</td>\n",
       "      <td>1661.516524</td>\n",
       "      <td>3591.230147</td>\n",
       "      <td>1469.733920</td>\n",
       "      <td>3029.947390</td>\n",
       "      <td>1950.133996</td>\n",
       "      <td>2514.098478</td>\n",
       "      <td>1803.776323</td>\n",
       "      <td>672.259429</td>\n",
       "    </tr>\n",
       "    <tr>\n",
       "      <th>599</th>\n",
       "      <td>599.0</td>\n",
       "      <td>1806.700823</td>\n",
       "      <td>3756.619950</td>\n",
       "      <td>1770.463017</td>\n",
       "      <td>2734.076628</td>\n",
       "      <td>1564.890731</td>\n",
       "      <td>4003.531635</td>\n",
       "      <td>2107.283372</td>\n",
       "      <td>2274.466765</td>\n",
       "      <td>8531.151606</td>\n",
       "      <td>...</td>\n",
       "      <td>1028.671823</td>\n",
       "      <td>848.295335</td>\n",
       "      <td>1660.194232</td>\n",
       "      <td>3593.923016</td>\n",
       "      <td>1467.218323</td>\n",
       "      <td>3028.312834</td>\n",
       "      <td>1952.004507</td>\n",
       "      <td>2516.443940</td>\n",
       "      <td>1802.460567</td>\n",
       "      <td>669.563360</td>\n",
       "    </tr>\n",
       "  </tbody>\n",
       "</table>\n",
       "<p>600 rows × 101 columns</p>\n",
       "</div>"
      ],
      "text/plain": [
       "      Time           x0           y0           x1           y1           x2  \\\n",
       "0      0.0  2433.959333  2295.271787  1911.466420  2218.606541  2371.209331   \n",
       "1      1.0  2436.619569  2296.658562  1910.076864  2221.265325  2371.611297   \n",
       "2      2.0  2439.444319  2297.668900  1908.547040  2223.845953  2371.887595   \n",
       "3      3.0  2442.171719  2298.918416  1906.863527  2226.329052  2372.014863   \n",
       "4      4.0  2444.955961  2300.035555  1905.063551  2228.729070  2372.031485   \n",
       "..     ...          ...          ...          ...          ...          ...   \n",
       "595  595.0  1811.104778  3745.457281  1775.789797  2723.323702  1570.610968   \n",
       "596  596.0  1810.003789  3748.247948  1774.458102  2726.011933  1569.180909   \n",
       "597  597.0  1808.902801  3751.038616  1773.126407  2728.700165  1567.750849   \n",
       "598  598.0  1807.801812  3753.829283  1771.794712  2731.388396  1566.320790   \n",
       "599  599.0  1806.700823  3756.619950  1770.463017  2734.076628  1564.890731   \n",
       "\n",
       "              y2           x3           y3           x4  ...          x45  \\\n",
       "0    2414.992688  1775.124512  1651.118124  1553.225253  ...  2005.164134   \n",
       "1    2417.965636  1777.923735  1652.197175  1550.450505  ...  2003.296774   \n",
       "2    2420.952886  1780.833696  1652.926644  1547.675758  ...  2001.634679   \n",
       "3    2423.950185  1783.794535  1653.409793  1544.901011  ...  2000.434411   \n",
       "4    2426.950139  1786.610800  1654.443550  1542.126263  ...  1999.056551   \n",
       "..           ...          ...          ...          ...  ...          ...   \n",
       "595  3992.982754  2100.458334  2264.623271  8542.250596  ...  1037.905006   \n",
       "596  3995.619974  2101.900819  2267.253716  8539.475848  ...  1035.596710   \n",
       "597  3998.257194  2103.692607  2269.659853  8536.701101  ...  1033.288414   \n",
       "598  4000.894414  2105.487970  2272.063324  8533.926354  ...  1030.980119   \n",
       "599  4003.531635  2107.283372  2274.466765  8531.151606  ...  1028.671823   \n",
       "\n",
       "             y45          x46          y46          x47          y47  \\\n",
       "0    1730.627323  1773.610424  2374.937241  2394.998281  2160.898451   \n",
       "1    1728.279352  1775.766207  2377.023529  2397.992069  2160.705494   \n",
       "2    1725.781865  1778.729669  2377.490323  2400.920355  2161.357522   \n",
       "3    1723.032437  1781.158543  2375.729480  2403.541913  2162.816094   \n",
       "4    1720.367572  1783.245457  2373.574302  2403.627776  2165.814865   \n",
       "..           ...          ...          ...          ...          ...   \n",
       "595   840.630589  1665.483399  3583.151540  1461.001825  3032.126958   \n",
       "596   842.546776  1664.161108  3585.844409  1463.912523  3031.400435   \n",
       "597   844.462962  1662.838816  3588.537278  1466.823222  3030.673912   \n",
       "598   846.379149  1661.516524  3591.230147  1469.733920  3029.947390   \n",
       "599   848.295335  1660.194232  3593.923016  1467.218323  3028.312834   \n",
       "\n",
       "             x48          y48          x49          y49  \n",
       "0    1917.766332  2144.997320  2425.032897  1674.556940  \n",
       "1    1915.503860  2143.027239  2422.036411  1674.411784  \n",
       "2    1913.268694  2141.026231  2419.039740  1674.270491  \n",
       "3    1911.061174  2138.994765  2416.043067  1674.129248  \n",
       "4    1908.880288  2136.934731  2413.046394  1673.988005  \n",
       "..           ...          ...          ...          ...  \n",
       "595  1944.522465  2507.062093  1807.723593   680.347634  \n",
       "596  1946.392976  2509.407555  1806.407836   677.651566  \n",
       "597  1948.263486  2511.753016  1805.092080   674.955497  \n",
       "598  1950.133996  2514.098478  1803.776323   672.259429  \n",
       "599  1952.004507  2516.443940  1802.460567   669.563360  \n",
       "\n",
       "[600 rows x 101 columns]"
      ]
     },
     "execution_count": 4,
     "metadata": {},
     "output_type": "execute_result"
    }
   ],
   "source": [
    "df = pd.read_csv(r'D:\\AKG\\Dataset\\boids\\boids_python2\\dataframe50.csv')\n",
    "df"
   ]
  },
  {
   "cell_type": "code",
   "execution_count": 37,
   "metadata": {},
   "outputs": [],
   "source": [
    "sequence_length = 7\n",
    "# time_series_data = df['x0', 'y0']\n",
    "time_series_data = df.iloc[:, 1:2].values\n",
    "\n",
    "mean = np.mean(time_series_data, axis=0)\n",
    "std = np.std(time_series_data, axis=0)\n",
    "time_series_data_normalized = (time_series_data - mean) / std"
   ]
  },
  {
   "cell_type": "code",
   "execution_count": 38,
   "metadata": {},
   "outputs": [],
   "source": [
    "X = []\n",
    "y = []\n",
    "for i in range(len(time_series_data_normalized) - sequence_length - 1):\n",
    "    X.append(time_series_data_normalized[i:i+sequence_length])\n",
    "    y.append(time_series_data_normalized[i+sequence_length+1])\n",
    "X = np.array(X)\n",
    "y = np.array(y)\n",
    "\n",
    "split_index = int(0.8 * len(X))  # 80% training, 20% validation\n",
    "X_train, X_val = X[:split_index], X[split_index:]\n",
    "y_train, y_val = y[:split_index], y[split_index:]"
   ]
  },
  {
   "cell_type": "code",
   "execution_count": 49,
   "metadata": {},
   "outputs": [
    {
     "data": {
      "text/plain": [
       "((119, 7, 1), (592, 1))"
      ]
     },
     "execution_count": 49,
     "metadata": {},
     "output_type": "execute_result"
    }
   ],
   "source": [
    "X_val.shape, y.shape"
   ]
  },
  {
   "cell_type": "code",
   "execution_count": 29,
   "metadata": {},
   "outputs": [
    {
     "data": {
      "text/plain": [
       "((595, 5, 1, 101), (595, 101))"
      ]
     },
     "execution_count": 29,
     "metadata": {},
     "output_type": "execute_result"
    }
   ],
   "source": [
    "def df_to_X_y(df, window_size=5):\n",
    "  df_as_np = df.to_numpy()\n",
    "  X = []\n",
    "  y = []\n",
    "  for i in range(len(df_as_np)-window_size):\n",
    "    row = [[a] for a in df_as_np[i:i+window_size]]\n",
    "    X.append(row)\n",
    "    label = df_as_np[i+window_size]\n",
    "    y.append(label)\n",
    "  return np.array(X), np.array(y)\n",
    "\n",
    "X1, y1 = df_to_X_y(df, 5)\n",
    "X1.shape, y1.shape"
   ]
  },
  {
   "cell_type": "code",
   "execution_count": 81,
   "metadata": {},
   "outputs": [
    {
     "name": "stdout",
     "output_type": "stream",
     "text": [
      "Model: \"sequential_6\"\n",
      "_________________________________________________________________\n",
      " Layer (type)                Output Shape              Param #   \n",
      "=================================================================\n",
      " lstm_6 (LSTM)               (None, 8)                 320       \n",
      "                                                                 \n",
      " dense_8 (Dense)             (None, 1)                 9         \n",
      "                                                                 \n",
      "=================================================================\n",
      "Total params: 329\n",
      "Trainable params: 329\n",
      "Non-trainable params: 0\n",
      "_________________________________________________________________\n"
     ]
    }
   ],
   "source": [
    "model = Sequential()\n",
    "model.add(LSTM(8, input_shape=(sequence_length, 1)))\n",
    "# model.add(LSTM(256, return_sequences=True, input_shape=(sequence_length, 2)))\n",
    "# model.add(Dense(32, activation='relu')) \n",
    "model.add(Dense(1))\n",
    "\n",
    "model.compile(loss='mse', optimizer='adam')\n",
    "model.summary()"
   ]
  },
  {
   "cell_type": "code",
   "execution_count": 82,
   "metadata": {},
   "outputs": [
    {
     "name": "stdout",
     "output_type": "stream",
     "text": [
      "Epoch 1/100\n",
      "15/15 [==============================] - 2s 26ms/step - loss: 1.5679 - val_loss: 2.6616\n",
      "Epoch 2/100\n",
      "15/15 [==============================] - 0s 4ms/step - loss: 1.2783 - val_loss: 2.5690\n",
      "Epoch 3/100\n",
      "15/15 [==============================] - 0s 4ms/step - loss: 1.0295 - val_loss: 2.4597\n",
      "Epoch 4/100\n",
      "15/15 [==============================] - 0s 4ms/step - loss: 0.8123 - val_loss: 2.3269\n",
      "Epoch 5/100\n",
      "15/15 [==============================] - 0s 4ms/step - loss: 0.6324 - val_loss: 2.1734\n",
      "Epoch 6/100\n",
      "15/15 [==============================] - 0s 4ms/step - loss: 0.4872 - val_loss: 2.0145\n",
      "Epoch 7/100\n",
      "15/15 [==============================] - 0s 4ms/step - loss: 0.3712 - val_loss: 1.8480\n",
      "Epoch 8/100\n",
      "15/15 [==============================] - 0s 4ms/step - loss: 0.2822 - val_loss: 1.6852\n",
      "Epoch 9/100\n",
      "15/15 [==============================] - 0s 4ms/step - loss: 0.2104 - val_loss: 1.5203\n",
      "Epoch 10/100\n",
      "15/15 [==============================] - 0s 4ms/step - loss: 0.1562 - val_loss: 1.3672\n",
      "Epoch 11/100\n",
      "15/15 [==============================] - 0s 4ms/step - loss: 0.1161 - val_loss: 1.2294\n",
      "Epoch 12/100\n",
      "15/15 [==============================] - 0s 4ms/step - loss: 0.0871 - val_loss: 1.1055\n",
      "Epoch 13/100\n",
      "15/15 [==============================] - 0s 4ms/step - loss: 0.0665 - val_loss: 1.0021\n",
      "Epoch 14/100\n",
      "15/15 [==============================] - 0s 4ms/step - loss: 0.0532 - val_loss: 0.9098\n",
      "Epoch 15/100\n",
      "15/15 [==============================] - 0s 4ms/step - loss: 0.0445 - val_loss: 0.8377\n",
      "Epoch 16/100\n",
      "15/15 [==============================] - 0s 4ms/step - loss: 0.0389 - val_loss: 0.7751\n",
      "Epoch 17/100\n",
      "15/15 [==============================] - 0s 4ms/step - loss: 0.0353 - val_loss: 0.7234\n",
      "Epoch 18/100\n",
      "15/15 [==============================] - 0s 4ms/step - loss: 0.0329 - val_loss: 0.6832\n",
      "Epoch 19/100\n",
      "15/15 [==============================] - 0s 4ms/step - loss: 0.0308 - val_loss: 0.6472\n",
      "Epoch 20/100\n",
      "15/15 [==============================] - 0s 4ms/step - loss: 0.0290 - val_loss: 0.6143\n",
      "Epoch 21/100\n",
      "15/15 [==============================] - 0s 4ms/step - loss: 0.0273 - val_loss: 0.5922\n",
      "Epoch 22/100\n",
      "15/15 [==============================] - 0s 4ms/step - loss: 0.0257 - val_loss: 0.5685\n",
      "Epoch 23/100\n",
      "15/15 [==============================] - 0s 4ms/step - loss: 0.0241 - val_loss: 0.5471\n",
      "Epoch 24/100\n",
      "15/15 [==============================] - 0s 6ms/step - loss: 0.0227 - val_loss: 0.5254\n",
      "Epoch 25/100\n",
      "15/15 [==============================] - 0s 4ms/step - loss: 0.0213 - val_loss: 0.5029\n",
      "Epoch 26/100\n",
      "15/15 [==============================] - 0s 3ms/step - loss: 0.0200 - val_loss: 0.4868\n",
      "Epoch 27/100\n",
      "15/15 [==============================] - 0s 4ms/step - loss: 0.0188 - val_loss: 0.4631\n",
      "Epoch 28/100\n",
      "15/15 [==============================] - 0s 4ms/step - loss: 0.0176 - val_loss: 0.4451\n",
      "Epoch 29/100\n",
      "15/15 [==============================] - 0s 4ms/step - loss: 0.0165 - val_loss: 0.4265\n",
      "Epoch 30/100\n",
      "15/15 [==============================] - 0s 4ms/step - loss: 0.0154 - val_loss: 0.4071\n",
      "Epoch 31/100\n",
      "15/15 [==============================] - 0s 4ms/step - loss: 0.0144 - val_loss: 0.3938\n",
      "Epoch 32/100\n",
      "15/15 [==============================] - 0s 4ms/step - loss: 0.0135 - val_loss: 0.3782\n",
      "Epoch 33/100\n",
      "15/15 [==============================] - 0s 4ms/step - loss: 0.0126 - val_loss: 0.3648\n",
      "Epoch 34/100\n",
      "15/15 [==============================] - 0s 4ms/step - loss: 0.0118 - val_loss: 0.3476\n",
      "Epoch 35/100\n",
      "15/15 [==============================] - 0s 4ms/step - loss: 0.0110 - val_loss: 0.3358\n",
      "Epoch 36/100\n",
      "15/15 [==============================] - 0s 4ms/step - loss: 0.0103 - val_loss: 0.3229\n",
      "Epoch 37/100\n",
      "15/15 [==============================] - 0s 4ms/step - loss: 0.0096 - val_loss: 0.3090\n",
      "Epoch 38/100\n",
      "15/15 [==============================] - 0s 4ms/step - loss: 0.0090 - val_loss: 0.2980\n",
      "Epoch 39/100\n",
      "15/15 [==============================] - 0s 4ms/step - loss: 0.0084 - val_loss: 0.2873\n",
      "Epoch 40/100\n",
      "15/15 [==============================] - 0s 4ms/step - loss: 0.0078 - val_loss: 0.2770\n",
      "Epoch 41/100\n",
      "15/15 [==============================] - 0s 4ms/step - loss: 0.0072 - val_loss: 0.2665\n",
      "Epoch 42/100\n",
      "15/15 [==============================] - 0s 4ms/step - loss: 0.0068 - val_loss: 0.2541\n",
      "Epoch 43/100\n",
      "15/15 [==============================] - 0s 4ms/step - loss: 0.0063 - val_loss: 0.2463\n",
      "Epoch 44/100\n",
      "15/15 [==============================] - 0s 4ms/step - loss: 0.0058 - val_loss: 0.2385\n",
      "Epoch 45/100\n",
      "15/15 [==============================] - 0s 4ms/step - loss: 0.0054 - val_loss: 0.2284\n",
      "Epoch 46/100\n",
      "15/15 [==============================] - 0s 4ms/step - loss: 0.0051 - val_loss: 0.2207\n",
      "Epoch 47/100\n",
      "15/15 [==============================] - 0s 4ms/step - loss: 0.0047 - val_loss: 0.2120\n",
      "Epoch 48/100\n",
      "15/15 [==============================] - 0s 4ms/step - loss: 0.0044 - val_loss: 0.2052\n",
      "Epoch 49/100\n",
      "15/15 [==============================] - 0s 4ms/step - loss: 0.0041 - val_loss: 0.1980\n",
      "Epoch 50/100\n",
      "15/15 [==============================] - 0s 4ms/step - loss: 0.0038 - val_loss: 0.1901\n",
      "Epoch 51/100\n",
      "15/15 [==============================] - 0s 8ms/step - loss: 0.0035 - val_loss: 0.1863\n",
      "Epoch 52/100\n",
      "15/15 [==============================] - 0s 4ms/step - loss: 0.0033 - val_loss: 0.1782\n",
      "Epoch 53/100\n",
      "15/15 [==============================] - 0s 4ms/step - loss: 0.0030 - val_loss: 0.1725\n",
      "Epoch 54/100\n",
      "15/15 [==============================] - 0s 4ms/step - loss: 0.0028 - val_loss: 0.1670\n",
      "Epoch 55/100\n",
      "15/15 [==============================] - 0s 4ms/step - loss: 0.0026 - val_loss: 0.1600\n",
      "Epoch 56/100\n",
      "15/15 [==============================] - 0s 3ms/step - loss: 0.0024 - val_loss: 0.1559\n",
      "Epoch 57/100\n",
      "15/15 [==============================] - 0s 4ms/step - loss: 0.0023 - val_loss: 0.1516\n",
      "Epoch 58/100\n",
      "15/15 [==============================] - 0s 4ms/step - loss: 0.0021 - val_loss: 0.1464\n",
      "Epoch 59/100\n",
      "15/15 [==============================] - 0s 4ms/step - loss: 0.0020 - val_loss: 0.1419\n",
      "Epoch 60/100\n",
      "15/15 [==============================] - 0s 4ms/step - loss: 0.0019 - val_loss: 0.1378\n",
      "Epoch 61/100\n",
      "15/15 [==============================] - 0s 4ms/step - loss: 0.0018 - val_loss: 0.1341\n",
      "Epoch 62/100\n",
      "15/15 [==============================] - 0s 4ms/step - loss: 0.0016 - val_loss: 0.1316\n",
      "Epoch 63/100\n",
      "15/15 [==============================] - 0s 4ms/step - loss: 0.0015 - val_loss: 0.1274\n",
      "Epoch 64/100\n",
      "15/15 [==============================] - 0s 3ms/step - loss: 0.0015 - val_loss: 0.1227\n",
      "Epoch 65/100\n",
      "15/15 [==============================] - 0s 4ms/step - loss: 0.0014 - val_loss: 0.1205\n",
      "Epoch 66/100\n",
      "15/15 [==============================] - 0s 4ms/step - loss: 0.0013 - val_loss: 0.1169\n",
      "Epoch 67/100\n",
      "15/15 [==============================] - 0s 4ms/step - loss: 0.0012 - val_loss: 0.1139\n",
      "Epoch 68/100\n",
      "15/15 [==============================] - 0s 4ms/step - loss: 0.0012 - val_loss: 0.1120\n",
      "Epoch 69/100\n",
      "15/15 [==============================] - 0s 4ms/step - loss: 0.0011 - val_loss: 0.1090\n",
      "Epoch 70/100\n",
      "15/15 [==============================] - 0s 4ms/step - loss: 0.0011 - val_loss: 0.1065\n",
      "Epoch 71/100\n",
      "15/15 [==============================] - 0s 4ms/step - loss: 0.0010 - val_loss: 0.1042\n",
      "Epoch 72/100\n",
      "15/15 [==============================] - 0s 4ms/step - loss: 9.8490e-04 - val_loss: 0.1026\n",
      "Epoch 73/100\n",
      "15/15 [==============================] - 0s 4ms/step - loss: 9.5589e-04 - val_loss: 0.1003\n",
      "Epoch 74/100\n",
      "15/15 [==============================] - 0s 4ms/step - loss: 9.2239e-04 - val_loss: 0.0982\n",
      "Epoch 75/100\n",
      "15/15 [==============================] - 0s 4ms/step - loss: 8.9572e-04 - val_loss: 0.0968\n",
      "Epoch 76/100\n",
      "15/15 [==============================] - 0s 4ms/step - loss: 8.7684e-04 - val_loss: 0.0951\n",
      "Epoch 77/100\n",
      "15/15 [==============================] - 0s 4ms/step - loss: 8.6700e-04 - val_loss: 0.0930\n",
      "Epoch 78/100\n",
      "15/15 [==============================] - 0s 4ms/step - loss: 8.3159e-04 - val_loss: 0.0920\n",
      "Epoch 79/100\n",
      "15/15 [==============================] - 0s 7ms/step - loss: 8.1423e-04 - val_loss: 0.0908\n",
      "Epoch 80/100\n",
      "15/15 [==============================] - 0s 4ms/step - loss: 7.9762e-04 - val_loss: 0.0890\n",
      "Epoch 81/100\n",
      "15/15 [==============================] - 0s 4ms/step - loss: 7.8718e-04 - val_loss: 0.0878\n",
      "Epoch 82/100\n",
      "15/15 [==============================] - 0s 4ms/step - loss: 7.7111e-04 - val_loss: 0.0870\n",
      "Epoch 83/100\n",
      "15/15 [==============================] - 0s 4ms/step - loss: 7.5618e-04 - val_loss: 0.0859\n",
      "Epoch 84/100\n",
      "15/15 [==============================] - 0s 4ms/step - loss: 7.4851e-04 - val_loss: 0.0847\n",
      "Epoch 85/100\n",
      "15/15 [==============================] - 0s 5ms/step - loss: 7.4586e-04 - val_loss: 0.0836\n",
      "Epoch 86/100\n",
      "15/15 [==============================] - 0s 4ms/step - loss: 7.3174e-04 - val_loss: 0.0828\n",
      "Epoch 87/100\n",
      "15/15 [==============================] - 0s 4ms/step - loss: 7.3463e-04 - val_loss: 0.0820\n",
      "Epoch 88/100\n",
      "15/15 [==============================] - 0s 4ms/step - loss: 7.2417e-04 - val_loss: 0.0806\n",
      "Epoch 89/100\n",
      "15/15 [==============================] - 0s 4ms/step - loss: 7.1468e-04 - val_loss: 0.0806\n",
      "Epoch 90/100\n",
      "15/15 [==============================] - 0s 4ms/step - loss: 7.0792e-04 - val_loss: 0.0795\n",
      "Epoch 91/100\n",
      "15/15 [==============================] - 0s 4ms/step - loss: 7.0773e-04 - val_loss: 0.0791\n",
      "Epoch 92/100\n",
      "15/15 [==============================] - 0s 4ms/step - loss: 6.9760e-04 - val_loss: 0.0778\n",
      "Epoch 93/100\n",
      "15/15 [==============================] - 0s 4ms/step - loss: 6.9837e-04 - val_loss: 0.0779\n",
      "Epoch 94/100\n",
      "15/15 [==============================] - 0s 4ms/step - loss: 7.0728e-04 - val_loss: 0.0771\n",
      "Epoch 95/100\n",
      "15/15 [==============================] - 0s 4ms/step - loss: 6.9322e-04 - val_loss: 0.0763\n",
      "Epoch 96/100\n",
      "15/15 [==============================] - 0s 4ms/step - loss: 6.8654e-04 - val_loss: 0.0758\n",
      "Epoch 97/100\n",
      "15/15 [==============================] - 0s 4ms/step - loss: 6.7906e-04 - val_loss: 0.0755\n",
      "Epoch 98/100\n",
      "15/15 [==============================] - 0s 4ms/step - loss: 6.7762e-04 - val_loss: 0.0751\n",
      "Epoch 99/100\n",
      "15/15 [==============================] - 0s 4ms/step - loss: 6.7570e-04 - val_loss: 0.0743\n",
      "Epoch 100/100\n",
      "15/15 [==============================] - 0s 4ms/step - loss: 6.8248e-04 - val_loss: 0.0745\n"
     ]
    },
    {
     "data": {
      "text/plain": [
       "<keras.callbacks.History at 0x1abfbfedb10>"
      ]
     },
     "execution_count": 82,
     "metadata": {},
     "output_type": "execute_result"
    }
   ],
   "source": [
    "model.fit(X_train, y_train, epochs=100, batch_size=32, validation_data=(X_val, y_val))"
   ]
  },
  {
   "cell_type": "code",
   "execution_count": 83,
   "metadata": {},
   "outputs": [
    {
     "data": {
      "text/plain": [
       "[<matplotlib.lines.Line2D at 0x1abfe38dc60>]"
      ]
     },
     "execution_count": 83,
     "metadata": {},
     "output_type": "execute_result"
    },
    {
     "data": {
      "image/png": "[encoded data removed]",
      "text/plain": [
       "<Figure size 432x288 with 1 Axes>"
      ]
     },
     "metadata": {
      "needs_background": "light"
     },
     "output_type": "display_data"
    }
   ],
   "source": [
    "loss_per_epoch = model.history.history['loss']\n",
    "plt.plot(range(len(loss_per_epoch)),loss_per_epoch)"
   ]
  },
  {
   "cell_type": "code",
   "execution_count": 84,
   "metadata": {},
   "outputs": [
    {
     "name": "stdout",
     "output_type": "stream",
     "text": [
      "1/1 [==============================] - 0s 358ms/step\n",
      "Next Row Prediction:\n",
      "[[1909.08068946]]\n"
     ]
    }
   ],
   "source": [
    "last_five_rows = time_series_data_normalized[-sequence_length:]\n",
    "next_row_normalized = model.predict(np.expand_dims(last_five_rows, axis=0))\n",
    "next_row = next_row_normalized * std + mean\n",
    "\n",
    "print(\"Next Row Prediction:\")\n",
    "print(next_row)"
   ]
  },
  {
   "cell_type": "code",
   "execution_count": 85,
   "metadata": {},
   "outputs": [
    {
     "name": "stdout",
     "output_type": "stream",
     "text": [
      "[1813.30675562]\n",
      "[1812.20576688]\n",
      "[1811.10477814]\n",
      "[1810.0037894]\n",
      "[1808.90280065]\n",
      "[1807.80181191]\n",
      "[1806.70082317]\n"
     ]
    },
    {
     "data": {
      "text/plain": [
       "array([1909.08068946])"
      ]
     },
     "execution_count": 85,
     "metadata": {},
     "output_type": "execute_result"
    }
   ],
   "source": [
    "l5 = last_five_rows*std + mean\n",
    "\n",
    "for i in range(0, len(l5)):\n",
    "    print(l5[i])\n",
    "\n",
    "next_row[0]"
   ]
  },
  {
   "cell_type": "code",
   "execution_count": 86,
   "metadata": {},
   "outputs": [
    {
     "name": "stdout",
     "output_type": "stream",
     "text": [
      "Accuracy Score: 0\n"
     ]
    }
   ],
   "source": [
    "threshold = 1\n",
    "actual_row = time_series_data[-1]\n",
    "euclidean_dist = euclidean(actual_row, next_row[0])\n",
    "accuracy = int(euclidean_dist < threshold)\n",
    "\n",
    "print(\"Accuracy Score:\", accuracy)"
   ]
  },
  {
   "cell_type": "code",
   "execution_count": 87,
   "metadata": {},
   "outputs": [
    {
     "name": "stdout",
     "output_type": "stream",
     "text": [
      "[1938.8194723]\n",
      "[1937.71848356]\n",
      "[1936.61749482]\n",
      "[1935.51650608]\n",
      "[1934.41551733]\n"
     ]
    }
   ],
   "source": [
    "for i in range(0,5):\n",
    "    print(X_val[i,6,]*std + mean)"
   ]
  },
  {
   "cell_type": "code",
   "execution_count": 88,
   "metadata": {},
   "outputs": [
    {
     "name": "stdout",
     "output_type": "stream",
     "text": [
      "4/4 [==============================] - 0s 1ms/step\n"
     ]
    }
   ],
   "source": [
    "preds = model.predict(X_val)"
   ]
  },
  {
   "cell_type": "code",
   "execution_count": 89,
   "metadata": {},
   "outputs": [
    {
     "data": {
      "text/plain": [
       "(119, 1)"
      ]
     },
     "execution_count": 89,
     "metadata": {},
     "output_type": "execute_result"
    }
   ],
   "source": [
    "preds.shape"
   ]
  },
  {
   "cell_type": "code",
   "execution_count": 90,
   "metadata": {},
   "outputs": [
    {
     "name": "stdout",
     "output_type": "stream",
     "text": [
      "4/4 [==============================] - 0s 1ms/step\n"
     ]
    },
    {
     "data": {
      "text/plain": [
       "[<matplotlib.lines.Line2D at 0x1abfe3d3640>]"
      ]
     },
     "execution_count": 90,
     "metadata": {},
     "output_type": "execute_result"
    },
    {
     "data": {
      "image/png": "[encoded data removed]",
      "text/plain": [
       "<Figure size 432x288 with 1 Axes>"
      ]
     },
     "metadata": {
      "needs_background": "light"
     },
     "output_type": "display_data"
    }
   ],
   "source": [
    "preds = model.predict(X_val)\n",
    "plt.plot([i for i in range(0,119)], X_val[:,6,]*std + mean)\n",
    "plt.plot([i for i in range(0,119)], preds*std + mean)"
   ]
  },
  {
   "cell_type": "code",
   "execution_count": null,
   "metadata": {},
   "outputs": [],
   "source": [
    "for j in range(0,5):\n",
    "    ids = []\n",
    "    x_values = []\n",
    "    y_values = []\n",
    "\n",
    "    row = df.iloc[j]\n",
    "\n",
    "    for i in range(1, len(row)):\n",
    "        # ids.append(int(row[i][0]))\n",
    "        x_values.append(float(row[i][1]))\n",
    "        y_values.append(float(row[i][2]))\n",
    "\n",
    "    plt.scatter(x_values, y_values)\n",
    "    plt.xlabel('X')\n",
    "    plt.ylabel('Y')\n",
    "    plt.title('Boids Plot')\n",
    "    plt.show()"
   ]
  }
 ],
 "metadata": {
  "kernelspec": {
   "display_name": "Python 3",
   "language": "python",
   "name": "python3"
  },
  "language_info": {
   "codemirror_mode": {
    "name": "ipython",
    "version": 3
   },
   "file_extension": ".py",
   "mimetype": "text/x-python",
   "name": "python",
   "nbconvert_exporter": "python",
   "pygments_lexer": "ipython3",
   "version": "3.10.4"
  },
  "orig_nbformat": 4
 },
 "nbformat": 4,
 "nbformat_minor": 2
}
