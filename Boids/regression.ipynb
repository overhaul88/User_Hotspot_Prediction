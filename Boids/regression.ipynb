{
 "cells": [
  {
   "cell_type": "code",
   "execution_count": 35,
   "metadata": {},
   "outputs": [],
   "source": [
    "import numpy as np\n",
    "import pandas as pd\n",
    "import tensorflow as tf\n",
    "import matplotlib.pyplot as plt\n",
    "from tensorflow.keras.models import Sequential\n",
    "from tensorflow.keras.layers import LSTM, Dense"
   ]
  },
  {
   "cell_type": "code",
   "execution_count": 36,
   "metadata": {},
   "outputs": [
    {
     "data": {
      "text/html": [
       "<div>\n",
       "<style scoped>\n",
       "    .dataframe tbody tr th:only-of-type {\n",
       "        vertical-align: middle;\n",
       "    }\n",
       "\n",
       "    .dataframe tbody tr th {\n",
       "        vertical-align: top;\n",
       "    }\n",
       "\n",
       "    .dataframe thead th {\n",
       "        text-align: right;\n",
       "    }\n",
       "</style>\n",
       "<table border=\"1\" class=\"dataframe\">\n",
       "  <thead>\n",
       "    <tr style=\"text-align: right;\">\n",
       "      <th></th>\n",
       "      <th>Time</th>\n",
       "      <th>x0</th>\n",
       "      <th>y0</th>\n",
       "      <th>x1</th>\n",
       "      <th>y1</th>\n",
       "      <th>x2</th>\n",
       "      <th>y2</th>\n",
       "      <th>x3</th>\n",
       "      <th>y3</th>\n",
       "      <th>x4</th>\n",
       "      <th>...</th>\n",
       "      <th>x45</th>\n",
       "      <th>y45</th>\n",
       "      <th>x46</th>\n",
       "      <th>y46</th>\n",
       "      <th>x47</th>\n",
       "      <th>y47</th>\n",
       "      <th>x48</th>\n",
       "      <th>y48</th>\n",
       "      <th>x49</th>\n",
       "      <th>y49</th>\n",
       "    </tr>\n",
       "  </thead>\n",
       "  <tbody>\n",
       "    <tr>\n",
       "      <th>0</th>\n",
       "      <td>0.0</td>\n",
       "      <td>2433.959333</td>\n",
       "      <td>2295.271787</td>\n",
       "      <td>1911.466420</td>\n",
       "      <td>2218.606541</td>\n",
       "      <td>2371.209331</td>\n",
       "      <td>2414.992688</td>\n",
       "      <td>1775.124512</td>\n",
       "      <td>1651.118124</td>\n",
       "      <td>1553.225253</td>\n",
       "      <td>...</td>\n",
       "      <td>2005.164134</td>\n",
       "      <td>1730.627323</td>\n",
       "      <td>1773.610424</td>\n",
       "      <td>2374.937241</td>\n",
       "      <td>2394.998281</td>\n",
       "      <td>2160.898451</td>\n",
       "      <td>1917.766332</td>\n",
       "      <td>2144.997320</td>\n",
       "      <td>2425.032897</td>\n",
       "      <td>1674.556940</td>\n",
       "    </tr>\n",
       "    <tr>\n",
       "      <th>1</th>\n",
       "      <td>1.0</td>\n",
       "      <td>2436.619569</td>\n",
       "      <td>2296.658562</td>\n",
       "      <td>1910.076864</td>\n",
       "      <td>2221.265325</td>\n",
       "      <td>2371.611297</td>\n",
       "      <td>2417.965636</td>\n",
       "      <td>1777.923735</td>\n",
       "      <td>1652.197175</td>\n",
       "      <td>1550.450505</td>\n",
       "      <td>...</td>\n",
       "      <td>2003.296774</td>\n",
       "      <td>1728.279352</td>\n",
       "      <td>1775.766207</td>\n",
       "      <td>2377.023529</td>\n",
       "      <td>2397.992069</td>\n",
       "      <td>2160.705494</td>\n",
       "      <td>1915.503860</td>\n",
       "      <td>2143.027239</td>\n",
       "      <td>2422.036411</td>\n",
       "      <td>1674.411784</td>\n",
       "    </tr>\n",
       "    <tr>\n",
       "      <th>2</th>\n",
       "      <td>2.0</td>\n",
       "      <td>2439.444319</td>\n",
       "      <td>2297.668900</td>\n",
       "      <td>1908.547040</td>\n",
       "      <td>2223.845953</td>\n",
       "      <td>2371.887595</td>\n",
       "      <td>2420.952886</td>\n",
       "      <td>1780.833696</td>\n",
       "      <td>1652.926644</td>\n",
       "      <td>1547.675758</td>\n",
       "      <td>...</td>\n",
       "      <td>2001.634679</td>\n",
       "      <td>1725.781865</td>\n",
       "      <td>1778.729669</td>\n",
       "      <td>2377.490323</td>\n",
       "      <td>2400.920355</td>\n",
       "      <td>2161.357522</td>\n",
       "      <td>1913.268694</td>\n",
       "      <td>2141.026231</td>\n",
       "      <td>2419.039740</td>\n",
       "      <td>1674.270491</td>\n",
       "    </tr>\n",
       "    <tr>\n",
       "      <th>3</th>\n",
       "      <td>3.0</td>\n",
       "      <td>2442.171719</td>\n",
       "      <td>2298.918416</td>\n",
       "      <td>1906.863527</td>\n",
       "      <td>2226.329052</td>\n",
       "      <td>2372.014863</td>\n",
       "      <td>2423.950185</td>\n",
       "      <td>1783.794535</td>\n",
       "      <td>1653.409793</td>\n",
       "      <td>1544.901011</td>\n",
       "      <td>...</td>\n",
       "      <td>2000.434411</td>\n",
       "      <td>1723.032437</td>\n",
       "      <td>1781.158543</td>\n",
       "      <td>2375.729480</td>\n",
       "      <td>2403.541913</td>\n",
       "      <td>2162.816094</td>\n",
       "      <td>1911.061174</td>\n",
       "      <td>2138.994765</td>\n",
       "      <td>2416.043067</td>\n",
       "      <td>1674.129248</td>\n",
       "    </tr>\n",
       "    <tr>\n",
       "      <th>4</th>\n",
       "      <td>4.0</td>\n",
       "      <td>2444.955961</td>\n",
       "      <td>2300.035555</td>\n",
       "      <td>1905.063551</td>\n",
       "      <td>2228.729070</td>\n",
       "      <td>2372.031485</td>\n",
       "      <td>2426.950139</td>\n",
       "      <td>1786.610800</td>\n",
       "      <td>1654.443550</td>\n",
       "      <td>1542.126263</td>\n",
       "      <td>...</td>\n",
       "      <td>1999.056551</td>\n",
       "      <td>1720.367572</td>\n",
       "      <td>1783.245457</td>\n",
       "      <td>2373.574302</td>\n",
       "      <td>2403.627776</td>\n",
       "      <td>2165.814865</td>\n",
       "      <td>1908.880288</td>\n",
       "      <td>2136.934731</td>\n",
       "      <td>2413.046394</td>\n",
       "      <td>1673.988005</td>\n",
       "    </tr>\n",
       "    <tr>\n",
       "      <th>...</th>\n",
       "      <td>...</td>\n",
       "      <td>...</td>\n",
       "      <td>...</td>\n",
       "      <td>...</td>\n",
       "      <td>...</td>\n",
       "      <td>...</td>\n",
       "      <td>...</td>\n",
       "      <td>...</td>\n",
       "      <td>...</td>\n",
       "      <td>...</td>\n",
       "      <td>...</td>\n",
       "      <td>...</td>\n",
       "      <td>...</td>\n",
       "      <td>...</td>\n",
       "      <td>...</td>\n",
       "      <td>...</td>\n",
       "      <td>...</td>\n",
       "      <td>...</td>\n",
       "      <td>...</td>\n",
       "      <td>...</td>\n",
       "      <td>...</td>\n",
       "    </tr>\n",
       "    <tr>\n",
       "      <th>595</th>\n",
       "      <td>595.0</td>\n",
       "      <td>1811.104778</td>\n",
       "      <td>3745.457281</td>\n",
       "      <td>1775.789797</td>\n",
       "      <td>2723.323702</td>\n",
       "      <td>1570.610968</td>\n",
       "      <td>3992.982754</td>\n",
       "      <td>2100.458334</td>\n",
       "      <td>2264.623271</td>\n",
       "      <td>8542.250596</td>\n",
       "      <td>...</td>\n",
       "      <td>1037.905006</td>\n",
       "      <td>840.630589</td>\n",
       "      <td>1665.483399</td>\n",
       "      <td>3583.151540</td>\n",
       "      <td>1461.001825</td>\n",
       "      <td>3032.126958</td>\n",
       "      <td>1944.522465</td>\n",
       "      <td>2507.062093</td>\n",
       "      <td>1807.723593</td>\n",
       "      <td>680.347634</td>\n",
       "    </tr>\n",
       "    <tr>\n",
       "      <th>596</th>\n",
       "      <td>596.0</td>\n",
       "      <td>1810.003789</td>\n",
       "      <td>3748.247948</td>\n",
       "      <td>1774.458102</td>\n",
       "      <td>2726.011933</td>\n",
       "      <td>1569.180909</td>\n",
       "      <td>3995.619974</td>\n",
       "      <td>2101.900819</td>\n",
       "      <td>2267.253716</td>\n",
       "      <td>8539.475848</td>\n",
       "      <td>...</td>\n",
       "      <td>1035.596710</td>\n",
       "      <td>842.546776</td>\n",
       "      <td>1664.161108</td>\n",
       "      <td>3585.844409</td>\n",
       "      <td>1463.912523</td>\n",
       "      <td>3031.400435</td>\n",
       "      <td>1946.392976</td>\n",
       "      <td>2509.407555</td>\n",
       "      <td>1806.407836</td>\n",
       "      <td>677.651566</td>\n",
       "    </tr>\n",
       "    <tr>\n",
       "      <th>597</th>\n",
       "      <td>597.0</td>\n",
       "      <td>1808.902801</td>\n",
       "      <td>3751.038616</td>\n",
       "      <td>1773.126407</td>\n",
       "      <td>2728.700165</td>\n",
       "      <td>1567.750849</td>\n",
       "      <td>3998.257194</td>\n",
       "      <td>2103.692607</td>\n",
       "      <td>2269.659853</td>\n",
       "      <td>8536.701101</td>\n",
       "      <td>...</td>\n",
       "      <td>1033.288414</td>\n",
       "      <td>844.462962</td>\n",
       "      <td>1662.838816</td>\n",
       "      <td>3588.537278</td>\n",
       "      <td>1466.823222</td>\n",
       "      <td>3030.673912</td>\n",
       "      <td>1948.263486</td>\n",
       "      <td>2511.753016</td>\n",
       "      <td>1805.092080</td>\n",
       "      <td>674.955497</td>\n",
       "    </tr>\n",
       "    <tr>\n",
       "      <th>598</th>\n",
       "      <td>598.0</td>\n",
       "      <td>1807.801812</td>\n",
       "      <td>3753.829283</td>\n",
       "      <td>1771.794712</td>\n",
       "      <td>2731.388396</td>\n",
       "      <td>1566.320790</td>\n",
       "      <td>4000.894414</td>\n",
       "      <td>2105.487970</td>\n",
       "      <td>2272.063324</td>\n",
       "      <td>8533.926354</td>\n",
       "      <td>...</td>\n",
       "      <td>1030.980119</td>\n",
       "      <td>846.379149</td>\n",
       "      <td>1661.516524</td>\n",
       "      <td>3591.230147</td>\n",
       "      <td>1469.733920</td>\n",
       "      <td>3029.947390</td>\n",
       "      <td>1950.133996</td>\n",
       "      <td>2514.098478</td>\n",
       "      <td>1803.776323</td>\n",
       "      <td>672.259429</td>\n",
       "    </tr>\n",
       "    <tr>\n",
       "      <th>599</th>\n",
       "      <td>599.0</td>\n",
       "      <td>1806.700823</td>\n",
       "      <td>3756.619950</td>\n",
       "      <td>1770.463017</td>\n",
       "      <td>2734.076628</td>\n",
       "      <td>1564.890731</td>\n",
       "      <td>4003.531635</td>\n",
       "      <td>2107.283372</td>\n",
       "      <td>2274.466765</td>\n",
       "      <td>8531.151606</td>\n",
       "      <td>...</td>\n",
       "      <td>1028.671823</td>\n",
       "      <td>848.295335</td>\n",
       "      <td>1660.194232</td>\n",
       "      <td>3593.923016</td>\n",
       "      <td>1467.218323</td>\n",
       "      <td>3028.312834</td>\n",
       "      <td>1952.004507</td>\n",
       "      <td>2516.443940</td>\n",
       "      <td>1802.460567</td>\n",
       "      <td>669.563360</td>\n",
       "    </tr>\n",
       "  </tbody>\n",
       "</table>\n",
       "<p>600 rows × 101 columns</p>\n",
       "</div>"
      ],
      "text/plain": [
       "      Time           x0           y0           x1           y1           x2  \\\n",
       "0      0.0  2433.959333  2295.271787  1911.466420  2218.606541  2371.209331   \n",
       "1      1.0  2436.619569  2296.658562  1910.076864  2221.265325  2371.611297   \n",
       "2      2.0  2439.444319  2297.668900  1908.547040  2223.845953  2371.887595   \n",
       "3      3.0  2442.171719  2298.918416  1906.863527  2226.329052  2372.014863   \n",
       "4      4.0  2444.955961  2300.035555  1905.063551  2228.729070  2372.031485   \n",
       "..     ...          ...          ...          ...          ...          ...   \n",
       "595  595.0  1811.104778  3745.457281  1775.789797  2723.323702  1570.610968   \n",
       "596  596.0  1810.003789  3748.247948  1774.458102  2726.011933  1569.180909   \n",
       "597  597.0  1808.902801  3751.038616  1773.126407  2728.700165  1567.750849   \n",
       "598  598.0  1807.801812  3753.829283  1771.794712  2731.388396  1566.320790   \n",
       "599  599.0  1806.700823  3756.619950  1770.463017  2734.076628  1564.890731   \n",
       "\n",
       "              y2           x3           y3           x4  ...          x45  \\\n",
       "0    2414.992688  1775.124512  1651.118124  1553.225253  ...  2005.164134   \n",
       "1    2417.965636  1777.923735  1652.197175  1550.450505  ...  2003.296774   \n",
       "2    2420.952886  1780.833696  1652.926644  1547.675758  ...  2001.634679   \n",
       "3    2423.950185  1783.794535  1653.409793  1544.901011  ...  2000.434411   \n",
       "4    2426.950139  1786.610800  1654.443550  1542.126263  ...  1999.056551   \n",
       "..           ...          ...          ...          ...  ...          ...   \n",
       "595  3992.982754  2100.458334  2264.623271  8542.250596  ...  1037.905006   \n",
       "596  3995.619974  2101.900819  2267.253716  8539.475848  ...  1035.596710   \n",
       "597  3998.257194  2103.692607  2269.659853  8536.701101  ...  1033.288414   \n",
       "598  4000.894414  2105.487970  2272.063324  8533.926354  ...  1030.980119   \n",
       "599  4003.531635  2107.283372  2274.466765  8531.151606  ...  1028.671823   \n",
       "\n",
       "             y45          x46          y46          x47          y47  \\\n",
       "0    1730.627323  1773.610424  2374.937241  2394.998281  2160.898451   \n",
       "1    1728.279352  1775.766207  2377.023529  2397.992069  2160.705494   \n",
       "2    1725.781865  1778.729669  2377.490323  2400.920355  2161.357522   \n",
       "3    1723.032437  1781.158543  2375.729480  2403.541913  2162.816094   \n",
       "4    1720.367572  1783.245457  2373.574302  2403.627776  2165.814865   \n",
       "..           ...          ...          ...          ...          ...   \n",
       "595   840.630589  1665.483399  3583.151540  1461.001825  3032.126958   \n",
       "596   842.546776  1664.161108  3585.844409  1463.912523  3031.400435   \n",
       "597   844.462962  1662.838816  3588.537278  1466.823222  3030.673912   \n",
       "598   846.379149  1661.516524  3591.230147  1469.733920  3029.947390   \n",
       "599   848.295335  1660.194232  3593.923016  1467.218323  3028.312834   \n",
       "\n",
       "             x48          y48          x49          y49  \n",
       "0    1917.766332  2144.997320  2425.032897  1674.556940  \n",
       "1    1915.503860  2143.027239  2422.036411  1674.411784  \n",
       "2    1913.268694  2141.026231  2419.039740  1674.270491  \n",
       "3    1911.061174  2138.994765  2416.043067  1674.129248  \n",
       "4    1908.880288  2136.934731  2413.046394  1673.988005  \n",
       "..           ...          ...          ...          ...  \n",
       "595  1944.522465  2507.062093  1807.723593   680.347634  \n",
       "596  1946.392976  2509.407555  1806.407836   677.651566  \n",
       "597  1948.263486  2511.753016  1805.092080   674.955497  \n",
       "598  1950.133996  2514.098478  1803.776323   672.259429  \n",
       "599  1952.004507  2516.443940  1802.460567   669.563360  \n",
       "\n",
       "[600 rows x 101 columns]"
      ]
     },
     "execution_count": 36,
     "metadata": {},
     "output_type": "execute_result"
    }
   ],
   "source": [
    "df = pd.read_csv(r'D:\\AKG\\Dataset\\boids\\boids_python2\\dataframe50.csv')\n",
    "df"
   ]
  },
  {
   "cell_type": "code",
   "execution_count": 26,
   "metadata": {},
   "outputs": [],
   "source": [
    "df = pd.read_csv(r'D:\\AKG\\Dataset\\boids\\boids_main\\dataframe.csv')"
   ]
  },
  {
   "cell_type": "code",
   "execution_count": 37,
   "metadata": {},
   "outputs": [],
   "source": [
    "data = df.iloc[:, 1:2].values\n",
    "mean = np.mean(data, axis=0)\n",
    "std = np.std(data, axis=0)\n",
    "data_normalized = (data - mean) / std"
   ]
  },
  {
   "cell_type": "code",
   "execution_count": 38,
   "metadata": {},
   "outputs": [],
   "source": [
    "X = data_normalized[:-1]\n",
    "y = data_normalized[1:]\n",
    "\n",
    "split_index = int(0.9 * len(X))  # 85% training, 15% validation\n",
    "X_train, X_val = X[:split_index], X[split_index:]\n",
    "y_train, y_val = y[:split_index], y[split_index:]"
   ]
  },
  {
   "cell_type": "code",
   "execution_count": 40,
   "metadata": {},
   "outputs": [
    {
     "data": {
      "text/plain": [
       "((539, 1), (539, 1), (60, 1), (60, 1))"
      ]
     },
     "execution_count": 40,
     "metadata": {},
     "output_type": "execute_result"
    }
   ],
   "source": [
    "X_train.shape, y_train.shape, X_val.shape, y_val.shape"
   ]
  },
  {
   "cell_type": "code",
   "execution_count": 56,
   "metadata": {},
   "outputs": [
    {
     "name": "stdout",
     "output_type": "stream",
     "text": [
      "Model: \"sequential_7\"\n",
      "_________________________________________________________________\n",
      " Layer (type)                Output Shape              Param #   \n",
      "=================================================================\n",
      " dense_21 (Dense)            (None, 32)                64        \n",
      "                                                                 \n",
      " dense_22 (Dense)            (None, 1)                 33        \n",
      "                                                                 \n",
      "=================================================================\n",
      "Total params: 97\n",
      "Trainable params: 97\n",
      "Non-trainable params: 0\n",
      "_________________________________________________________________\n"
     ]
    }
   ],
   "source": [
    "model = Sequential()\n",
    "model.add(Dense(32, activation='relu', input_shape=(1,)))  # Input layer\n",
    "# model.add(Dense(32, activation='relu'))  # Hidden layer 1\n",
    "# model.add(Dense(128, activation='relu'))  # Hidden layer 2\n",
    "model.add(Dense(1, activation='relu')) \n",
    "\n",
    "model.compile(loss='mse', optimizer='adam')\n",
    "model.summary()"
   ]
  },
  {
   "cell_type": "code",
   "execution_count": 57,
   "metadata": {},
   "outputs": [
    {
     "name": "stdout",
     "output_type": "stream",
     "text": [
      "Epoch 1/50\n"
     ]
    },
    {
     "name": "stdout",
     "output_type": "stream",
     "text": [
      "17/17 [==============================] - 0s 6ms/step - loss: 0.7397 - val_loss: 2.4814\n",
      "Epoch 2/50\n",
      "17/17 [==============================] - 0s 2ms/step - loss: 0.5351 - val_loss: 2.2153\n",
      "Epoch 3/50\n",
      "17/17 [==============================] - 0s 2ms/step - loss: 0.4298 - val_loss: 2.2153\n",
      "Epoch 4/50\n",
      "17/17 [==============================] - 0s 2ms/step - loss: 0.3646 - val_loss: 2.2153\n",
      "Epoch 5/50\n",
      "17/17 [==============================] - 0s 2ms/step - loss: 0.3273 - val_loss: 2.2153\n",
      "Epoch 6/50\n",
      "17/17 [==============================] - 0s 2ms/step - loss: 0.3090 - val_loss: 2.2153\n",
      "Epoch 7/50\n",
      "17/17 [==============================] - 0s 2ms/step - loss: 0.3000 - val_loss: 2.2153\n",
      "Epoch 8/50\n",
      "17/17 [==============================] - 0s 2ms/step - loss: 0.2959 - val_loss: 2.2153\n",
      "Epoch 9/50\n",
      "17/17 [==============================] - 0s 2ms/step - loss: 0.2934 - val_loss: 2.2153\n",
      "Epoch 10/50\n",
      "17/17 [==============================] - 0s 2ms/step - loss: 0.2916 - val_loss: 2.2153\n",
      "Epoch 11/50\n",
      "17/17 [==============================] - 0s 2ms/step - loss: 0.2901 - val_loss: 2.2153\n",
      "Epoch 12/50\n",
      "17/17 [==============================] - 0s 2ms/step - loss: 0.2890 - val_loss: 2.2153\n",
      "Epoch 13/50\n",
      "17/17 [==============================] - 0s 2ms/step - loss: 0.2878 - val_loss: 2.2153\n",
      "Epoch 14/50\n",
      "17/17 [==============================] - 0s 2ms/step - loss: 0.2870 - val_loss: 2.2153\n",
      "Epoch 15/50\n",
      "17/17 [==============================] - 0s 2ms/step - loss: 0.2862 - val_loss: 2.2153\n",
      "Epoch 16/50\n",
      "17/17 [==============================] - 0s 2ms/step - loss: 0.2854 - val_loss: 2.2153\n",
      "Epoch 17/50\n",
      "17/17 [==============================] - 0s 2ms/step - loss: 0.2848 - val_loss: 2.2153\n",
      "Epoch 18/50\n",
      "17/17 [==============================] - 0s 2ms/step - loss: 0.2843 - val_loss: 2.2153\n",
      "Epoch 19/50\n",
      "17/17 [==============================] - 0s 2ms/step - loss: 0.2838 - val_loss: 2.2153\n",
      "Epoch 20/50\n",
      "17/17 [==============================] - 0s 2ms/step - loss: 0.2834 - val_loss: 2.2153\n",
      "Epoch 21/50\n",
      "17/17 [==============================] - 0s 2ms/step - loss: 0.2831 - val_loss: 2.2153\n",
      "Epoch 22/50\n",
      "17/17 [==============================] - 0s 2ms/step - loss: 0.2828 - val_loss: 2.2153\n",
      "Epoch 23/50\n",
      "17/17 [==============================] - 0s 2ms/step - loss: 0.2825 - val_loss: 2.2153\n",
      "Epoch 24/50\n",
      "17/17 [==============================] - 0s 2ms/step - loss: 0.2823 - val_loss: 2.2153\n",
      "Epoch 25/50\n",
      "17/17 [==============================] - 0s 2ms/step - loss: 0.2821 - val_loss: 2.2153\n",
      "Epoch 26/50\n",
      "17/17 [==============================] - 0s 5ms/step - loss: 0.2820 - val_loss: 2.2153\n",
      "Epoch 27/50\n",
      "17/17 [==============================] - 0s 2ms/step - loss: 0.2819 - val_loss: 2.2153\n",
      "Epoch 28/50\n",
      "17/17 [==============================] - 0s 2ms/step - loss: 0.2818 - val_loss: 2.2153\n",
      "Epoch 29/50\n",
      "17/17 [==============================] - 0s 2ms/step - loss: 0.2818 - val_loss: 2.2153\n",
      "Epoch 30/50\n",
      "17/17 [==============================] - 0s 2ms/step - loss: 0.2817 - val_loss: 2.2153\n",
      "Epoch 31/50\n",
      "17/17 [==============================] - 0s 2ms/step - loss: 0.2817 - val_loss: 2.2153\n",
      "Epoch 32/50\n",
      "17/17 [==============================] - 0s 2ms/step - loss: 0.2816 - val_loss: 2.2153\n",
      "Epoch 33/50\n",
      "17/17 [==============================] - 0s 2ms/step - loss: 0.2816 - val_loss: 2.2153\n",
      "Epoch 34/50\n",
      "17/17 [==============================] - 0s 2ms/step - loss: 0.2816 - val_loss: 2.2153\n",
      "Epoch 35/50\n",
      "17/17 [==============================] - 0s 2ms/step - loss: 0.2816 - val_loss: 2.2153\n",
      "Epoch 36/50\n",
      "17/17 [==============================] - 0s 2ms/step - loss: 0.2815 - val_loss: 2.2153\n",
      "Epoch 37/50\n",
      "17/17 [==============================] - 0s 2ms/step - loss: 0.2815 - val_loss: 2.2153\n",
      "Epoch 38/50\n",
      "17/17 [==============================] - 0s 2ms/step - loss: 0.2815 - val_loss: 2.2153\n",
      "Epoch 39/50\n",
      "17/17 [==============================] - 0s 2ms/step - loss: 0.2815 - val_loss: 2.2153\n",
      "Epoch 40/50\n",
      "17/17 [==============================] - 0s 2ms/step - loss: 0.2815 - val_loss: 2.2153\n",
      "Epoch 41/50\n",
      "17/17 [==============================] - 0s 2ms/step - loss: 0.2815 - val_loss: 2.2153\n",
      "Epoch 42/50\n",
      "17/17 [==============================] - 0s 2ms/step - loss: 0.2815 - val_loss: 2.2153\n",
      "Epoch 43/50\n",
      "17/17 [==============================] - 0s 2ms/step - loss: 0.2815 - val_loss: 2.2153\n",
      "Epoch 44/50\n",
      "17/17 [==============================] - 0s 2ms/step - loss: 0.2815 - val_loss: 2.2153\n",
      "Epoch 45/50\n",
      "17/17 [==============================] - 0s 2ms/step - loss: 0.2815 - val_loss: 2.2153\n",
      "Epoch 46/50\n",
      "17/17 [==============================] - 0s 2ms/step - loss: 0.2815 - val_loss: 2.2153\n",
      "Epoch 47/50\n",
      "17/17 [==============================] - 0s 2ms/step - loss: 0.2815 - val_loss: 2.2153\n",
      "Epoch 48/50\n",
      "17/17 [==============================] - 0s 2ms/step - loss: 0.2815 - val_loss: 2.2153\n",
      "Epoch 49/50\n",
      "17/17 [==============================] - 0s 2ms/step - loss: 0.2815 - val_loss: 2.2153\n",
      "Epoch 50/50\n",
      "17/17 [==============================] - 0s 2ms/step - loss: 0.2815 - val_loss: 2.2153\n"
     ]
    },
    {
     "data": {
      "text/plain": [
       "<keras.callbacks.History at 0x19b06e9fa30>"
      ]
     },
     "execution_count": 57,
     "metadata": {},
     "output_type": "execute_result"
    }
   ],
   "source": [
    "model.fit(X_train, y_train, epochs=50, batch_size=32, validation_data=(X_val, y_val))"
   ]
  },
  {
   "cell_type": "code",
   "execution_count": 58,
   "metadata": {},
   "outputs": [
    {
     "data": {
      "text/plain": [
       "[<matplotlib.lines.Line2D at 0x19b07fede10>]"
      ]
     },
     "execution_count": 58,
     "metadata": {},
     "output_type": "execute_result"
    },
    {
     "data": {
      "image/png": "[encoded data removed]",
      "text/plain": [
       "<Figure size 432x288 with 1 Axes>"
      ]
     },
     "metadata": {
      "needs_background": "light"
     },
     "output_type": "display_data"
    }
   ],
   "source": [
    "loss_per_epoch = model.history.history['loss']\n",
    "plt.plot(range(len(loss_per_epoch)),loss_per_epoch)"
   ]
  },
  {
   "cell_type": "code",
   "execution_count": 59,
   "metadata": {},
   "outputs": [
    {
     "name": "stdout",
     "output_type": "stream",
     "text": [
      "WARNING:tensorflow:6 out of the last 13 calls to <function Model.make_predict_function.<locals>.predict_function at 0x0000019B08000CA0> triggered tf.function retracing. Tracing is expensive and the excessive number of tracings could be due to (1) creating @tf.function repeatedly in a loop, (2) passing tensors with different shapes, (3) passing Python objects instead of tensors. For (1), please define your @tf.function outside of the loop. For (2), @tf.function has reduce_retracing=True option that can avoid unnecessary retracing. For (3), please refer to https://www.tensorflow.org/guide/function#controlling_retracing and https://www.tensorflow.org/api_docs/python/tf/function for  more details.\n",
      "1/1 [==============================] - 0s 40ms/step\n"
     ]
    },
    {
     "data": {
      "text/plain": [
       "array([[2155.21537846]])"
      ]
     },
     "execution_count": 59,
     "metadata": {},
     "output_type": "execute_result"
    }
   ],
   "source": [
    "last_row_normalized = data_normalized[-2]\n",
    "next_row_normalized = model.predict(np.expand_dims(last_row_normalized, axis=0))\n",
    "next_row = next_row_normalized * std + mean\n",
    "\n",
    "next_row"
   ]
  },
  {
   "cell_type": "code",
   "execution_count": 60,
   "metadata": {},
   "outputs": [
    {
     "ename": "IndexError",
     "evalue": "index 1 is out of bounds for axis 0 with size 1",
     "output_type": "error",
     "traceback": [
      "\u001b[1;31m---------------------------------------------------------------------------\u001b[0m",
      "\u001b[1;31mIndexError\u001b[0m                                Traceback (most recent call last)",
      "\u001b[1;32md:\\AKG\\Dataset\\boids\\boids_python2\\regression.ipynb Cell 11\u001b[0m in \u001b[0;36m<cell line: 3>\u001b[1;34m()\u001b[0m\n\u001b[0;32m      <a href='vscode-notebook-cell:/d%3A/AKG/Dataset/boids/boids_python2/regression.ipynb#X13sZmlsZQ%3D%3D?line=0'>1</a>\u001b[0m lr \u001b[39m=\u001b[39m last_row_normalized\u001b[39m*\u001b[39mstd \u001b[39m+\u001b[39m mean\n\u001b[1;32m----> <a href='vscode-notebook-cell:/d%3A/AKG/Dataset/boids/boids_python2/regression.ipynb#X13sZmlsZQ%3D%3D?line=2'>3</a>\u001b[0m lr[\u001b[39m0\u001b[39m], lr[\u001b[39m1\u001b[39;49m], next_row[\u001b[39m0\u001b[39m][\u001b[39m0\u001b[39m], next_row[\u001b[39m0\u001b[39m][\u001b[39m1\u001b[39m]\n",
      "\u001b[1;31mIndexError\u001b[0m: index 1 is out of bounds for axis 0 with size 1"
     ]
    }
   ],
   "source": [
    "lr = last_row_normalized*std + mean\n",
    "\n",
    "lr[0], lr[1], next_row[0][0], next_row[0][1]"
   ]
  },
  {
   "cell_type": "code",
   "execution_count": 61,
   "metadata": {},
   "outputs": [
    {
     "name": "stdout",
     "output_type": "stream",
     "text": [
      "2/2 [==============================] - 0s 2ms/step\n"
     ]
    },
    {
     "data": {
      "text/plain": [
       "[<matplotlib.lines.Line2D at 0x19b080a2890>]"
      ]
     },
     "execution_count": 61,
     "metadata": {},
     "output_type": "execute_result"
    },
    {
     "data": {
      "image/png": "[encoded data removed]",
      "text/plain": [
       "<Figure size 432x288 with 1 Axes>"
      ]
     },
     "metadata": {
      "needs_background": "light"
     },
     "output_type": "display_data"
    }
   ],
   "source": [
    "preds = model.predict(X_val)\n",
    "plt.plot([i for i in range(0,60)], X_val*std + mean)\n",
    "plt.plot([i for i in range(0,60)], preds*std + mean)"
   ]
  },
  {
   "cell_type": "code",
   "execution_count": null,
   "metadata": {},
   "outputs": [],
   "source": []
  },
  {
   "cell_type": "code",
   "execution_count": null,
   "metadata": {},
   "outputs": [],
   "source": []
  }
 ],
 "metadata": {
  "kernelspec": {
   "display_name": "Python 3",
   "language": "python",
   "name": "python3"
  },
  "language_info": {
   "codemirror_mode": {
    "name": "ipython",
    "version": 3
   },
   "file_extension": ".py",
   "mimetype": "text/x-python",
   "name": "python",
   "nbconvert_exporter": "python",
   "pygments_lexer": "ipython3",
   "version": "3.10.4"
  },
  "orig_nbformat": 4
 },
 "nbformat": 4,
 "nbformat_minor": 2
}
