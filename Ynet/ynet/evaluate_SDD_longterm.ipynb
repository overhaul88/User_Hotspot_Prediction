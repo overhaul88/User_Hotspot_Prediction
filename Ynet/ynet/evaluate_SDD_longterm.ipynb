{
 "cells": [
  {
   "cell_type": "code",
   "execution_count": 19,
   "id": "determined-township",
   "metadata": {},
   "outputs": [],
   "source": [
    "import pandas as pd\n",
    "import yaml\n",
    "import argparse\n",
    "import torch\n",
    "from model import YNet"
   ]
  },
  {
   "cell_type": "code",
   "execution_count": 20,
   "id": "finished-potential",
   "metadata": {},
   "outputs": [
    {
     "name": "stdout",
     "output_type": "stream",
     "text": [
      "The autoreload extension is already loaded. To reload it, use:\n",
      "  %reload_ext autoreload\n"
     ]
    }
   ],
   "source": [
    "%load_ext autoreload\n",
    "%autoreload 2"
   ]
  },
  {
   "cell_type": "markdown",
   "id": "9ad94e97",
   "metadata": {},
   "source": [
    "#### Some hyperparameters and settings"
   ]
  },
  {
   "cell_type": "code",
   "execution_count": 21,
   "id": "arabic-thickness",
   "metadata": {},
   "outputs": [],
   "source": [
    "CONFIG_FILE_PATH = 'config/sdd_longterm.yaml'  # yaml config file containing all the hyperparameters\n",
    "DATASET_NAME = 'sdd'\n",
    "\n",
    "TEST_DATA_PATH = 'data/SDD/test_longterm.pkl'\n",
    "TEST_IMAGE_PATH = 'data/SDD/test'\n",
    "OBS_LEN = 5  # in timesteps\n",
    "PRED_LEN = 30  # in timesteps\n",
    "NUM_GOALS = 20  # K_e\n",
    "NUM_TRAJ = 1  # K_a\n",
    "\n",
    "ROUNDS = 3  # Y-net is stochastic. How often to evaluate the whole dataset\n",
    "BATCH_SIZE = 8"
   ]
  },
  {
   "cell_type": "markdown",
   "id": "8a2a9207",
   "metadata": {},
   "source": [
    "#### Load config file and print hyperparameters"
   ]
  },
  {
   "cell_type": "code",
   "execution_count": 22,
   "id": "dangerous-cutting",
   "metadata": {},
   "outputs": [
    {
     "data": {
      "text/plain": [
       "{'resize': 0.25,\n",
       " 'batch_size': 8,\n",
       " 'viz_epoch': 10,\n",
       " 'learning_rate': 0.0001,\n",
       " 'num_epochs': 300,\n",
       " 'encoder_channels': [32, 32, 64, 64, 64],\n",
       " 'decoder_channels': [64, 64, 64, 32, 32],\n",
       " 'waypoints': [14, 29],\n",
       " 'temperature': 1.8,\n",
       " 'segmentation_model_fp': 'segmentation_models/SDD_segmentation.pth',\n",
       " 'semantic_classes': 6,\n",
       " 'loss_scale': 1000,\n",
       " 'kernlen': 31,\n",
       " 'nsig': 4,\n",
       " 'use_features_only': False,\n",
       " 'unfreeze': 100,\n",
       " 'use_TTST': True,\n",
       " 'rel_threshold': 0.002,\n",
       " 'use_CWS': True,\n",
       " 'CWS_params': {'sigma_factor': 6, 'ratio': 2, 'rot': True}}"
      ]
     },
     "execution_count": 22,
     "metadata": {},
     "output_type": "execute_result"
    }
   ],
   "source": [
    "with open(CONFIG_FILE_PATH) as file:\n",
    "    params = yaml.load(file, Loader=yaml.FullLoader)\n",
    "experiment_name = CONFIG_FILE_PATH.split('.yaml')[0].split('config/')[1]\n",
    "params"
   ]
  },
  {
   "cell_type": "markdown",
   "id": "amber-pressure",
   "metadata": {},
   "source": [
    "#### Load preprocessed Data"
   ]
  },
  {
   "cell_type": "code",
   "execution_count": 23,
   "id": "german-feature",
   "metadata": {},
   "outputs": [],
   "source": [
    "df_test = pd.read_pickle(TEST_DATA_PATH)"
   ]
  },
  {
   "cell_type": "code",
   "execution_count": 24,
   "id": "corporate-pharmacy",
   "metadata": {},
   "outputs": [
    {
     "data": {
      "text/html": [
       "<div>\n",
       "<style scoped>\n",
       "    .dataframe tbody tr th:only-of-type {\n",
       "        vertical-align: middle;\n",
       "    }\n",
       "\n",
       "    .dataframe tbody tr th {\n",
       "        vertical-align: top;\n",
       "    }\n",
       "\n",
       "    .dataframe thead th {\n",
       "        text-align: right;\n",
       "    }\n",
       "</style>\n",
       "<table border=\"1\" class=\"dataframe\">\n",
       "  <thead>\n",
       "    <tr style=\"text-align: right;\">\n",
       "      <th></th>\n",
       "      <th>trackId</th>\n",
       "      <th>frame</th>\n",
       "      <th>x</th>\n",
       "      <th>y</th>\n",
       "      <th>sceneId</th>\n",
       "      <th>metaId</th>\n",
       "    </tr>\n",
       "  </thead>\n",
       "  <tbody>\n",
       "    <tr>\n",
       "      <th>0</th>\n",
       "      <td>5</td>\n",
       "      <td>311</td>\n",
       "      <td>1608.0</td>\n",
       "      <td>326.5</td>\n",
       "      <td>coupa_0</td>\n",
       "      <td>0</td>\n",
       "    </tr>\n",
       "    <tr>\n",
       "      <th>1</th>\n",
       "      <td>5</td>\n",
       "      <td>341</td>\n",
       "      <td>1608.0</td>\n",
       "      <td>326.5</td>\n",
       "      <td>coupa_0</td>\n",
       "      <td>0</td>\n",
       "    </tr>\n",
       "    <tr>\n",
       "      <th>2</th>\n",
       "      <td>5</td>\n",
       "      <td>371</td>\n",
       "      <td>1608.0</td>\n",
       "      <td>326.5</td>\n",
       "      <td>coupa_0</td>\n",
       "      <td>0</td>\n",
       "    </tr>\n",
       "    <tr>\n",
       "      <th>3</th>\n",
       "      <td>5</td>\n",
       "      <td>401</td>\n",
       "      <td>1608.0</td>\n",
       "      <td>326.5</td>\n",
       "      <td>coupa_0</td>\n",
       "      <td>0</td>\n",
       "    </tr>\n",
       "    <tr>\n",
       "      <th>4</th>\n",
       "      <td>5</td>\n",
       "      <td>431</td>\n",
       "      <td>1608.0</td>\n",
       "      <td>326.5</td>\n",
       "      <td>coupa_0</td>\n",
       "      <td>0</td>\n",
       "    </tr>\n",
       "  </tbody>\n",
       "</table>\n",
       "</div>"
      ],
      "text/plain": [
       "   trackId  frame       x      y  sceneId  metaId\n",
       "0        5    311  1608.0  326.5  coupa_0       0\n",
       "1        5    341  1608.0  326.5  coupa_0       0\n",
       "2        5    371  1608.0  326.5  coupa_0       0\n",
       "3        5    401  1608.0  326.5  coupa_0       0\n",
       "4        5    431  1608.0  326.5  coupa_0       0"
      ]
     },
     "execution_count": 24,
     "metadata": {},
     "output_type": "execute_result"
    }
   ],
   "source": [
    "df_test.head()"
   ]
  },
  {
   "cell_type": "markdown",
   "id": "0efc7541",
   "metadata": {},
   "source": [
    "#### Initiate model and load pretrained weights"
   ]
  },
  {
   "cell_type": "code",
   "execution_count": 28,
   "id": "harmful-colleague",
   "metadata": {},
   "outputs": [
    {
     "ename": "ModuleNotFoundError",
     "evalue": "No module named 'segmentation_models_pytorch'",
     "output_type": "error",
     "traceback": [
      "\u001b[1;31m---------------------------------------------------------------------------\u001b[0m",
      "\u001b[1;31mModuleNotFoundError\u001b[0m                       Traceback (most recent call last)",
      "\u001b[1;32md:\\AKG\\GSN\\Human-Path-Prediction\\ynet\\evaluate_SDD_longterm.ipynb Cell 11\u001b[0m in \u001b[0;36m<cell line: 1>\u001b[1;34m()\u001b[0m\n\u001b[1;32m----> <a href='vscode-notebook-cell:/d%3A/AKG/GSN/Human-Path-Prediction/ynet/evaluate_SDD_longterm.ipynb#X13sZmlsZQ%3D%3D?line=0'>1</a>\u001b[0m model \u001b[39m=\u001b[39m YNet(obs_len\u001b[39m=\u001b[39;49mOBS_LEN, pred_len\u001b[39m=\u001b[39;49mPRED_LEN, params\u001b[39m=\u001b[39;49mparams)\n",
      "File \u001b[1;32md:\\AKG\\GSN\\Human-Path-Prediction\\ynet\\model.py:211\u001b[0m, in \u001b[0;36mYNet.__init__\u001b[1;34m(self, obs_len, pred_len, params)\u001b[0m\n\u001b[0;32m    208\u001b[0m \u001b[39mself\u001b[39m\u001b[39m.\u001b[39mpred_len \u001b[39m=\u001b[39m pred_len\n\u001b[0;32m    209\u001b[0m \u001b[39mself\u001b[39m\u001b[39m.\u001b[39mdivision_factor \u001b[39m=\u001b[39m \u001b[39m2\u001b[39m \u001b[39m*\u001b[39m\u001b[39m*\u001b[39m \u001b[39mlen\u001b[39m(params[\u001b[39m'\u001b[39m\u001b[39mencoder_channels\u001b[39m\u001b[39m'\u001b[39m])\n\u001b[1;32m--> 211\u001b[0m \u001b[39mself\u001b[39m\u001b[39m.\u001b[39mmodel \u001b[39m=\u001b[39m YNetTorch(obs_len\u001b[39m=\u001b[39;49mobs_len,\n\u001b[0;32m    212\u001b[0m \t\t\t\t\t   pred_len\u001b[39m=\u001b[39;49mpred_len,\n\u001b[0;32m    213\u001b[0m \t\t\t\t\t   segmentation_model_fp\u001b[39m=\u001b[39;49mparams[\u001b[39m'\u001b[39;49m\u001b[39msegmentation_model_fp\u001b[39;49m\u001b[39m'\u001b[39;49m],\n\u001b[0;32m    214\u001b[0m \t\t\t\t\t   use_features_only\u001b[39m=\u001b[39;49mparams[\u001b[39m'\u001b[39;49m\u001b[39muse_features_only\u001b[39;49m\u001b[39m'\u001b[39;49m],\n\u001b[0;32m    215\u001b[0m \t\t\t\t\t   semantic_classes\u001b[39m=\u001b[39;49mparams[\u001b[39m'\u001b[39;49m\u001b[39msemantic_classes\u001b[39;49m\u001b[39m'\u001b[39;49m],\n\u001b[0;32m    216\u001b[0m \t\t\t\t\t   encoder_channels\u001b[39m=\u001b[39;49mparams[\u001b[39m'\u001b[39;49m\u001b[39mencoder_channels\u001b[39;49m\u001b[39m'\u001b[39;49m],\n\u001b[0;32m    217\u001b[0m \t\t\t\t\t   decoder_channels\u001b[39m=\u001b[39;49mparams[\u001b[39m'\u001b[39;49m\u001b[39mdecoder_channels\u001b[39;49m\u001b[39m'\u001b[39;49m],\n\u001b[0;32m    218\u001b[0m \t\t\t\t\t   waypoints\u001b[39m=\u001b[39;49m\u001b[39mlen\u001b[39;49m(params[\u001b[39m'\u001b[39;49m\u001b[39mwaypoints\u001b[39;49m\u001b[39m'\u001b[39;49m]))\n",
      "File \u001b[1;32md:\\AKG\\GSN\\Human-Path-Prediction\\ynet\\model.py:139\u001b[0m, in \u001b[0;36mYNetTorch.__init__\u001b[1;34m(self, obs_len, pred_len, segmentation_model_fp, use_features_only, semantic_classes, encoder_channels, decoder_channels, waypoints)\u001b[0m\n\u001b[0;32m    125\u001b[0m \"\"\"\n\u001b[0;32m    126\u001b[0m Complete Y-net Architecture including semantic segmentation backbone, heatmap embedding and ConvPredictor\n\u001b[0;32m    127\u001b[0m :param obs_len: int, observed timesteps\n\u001b[1;32m   (...)\u001b[0m\n\u001b[0;32m    134\u001b[0m :param waypoints: int, number of waypoints\n\u001b[0;32m    135\u001b[0m \"\"\"\n\u001b[0;32m    136\u001b[0m super(YNetTorch, self).__init__()\n\u001b[0;32m    138\u001b[0m if segmentation_model_fp is not None:\n\u001b[1;32m--> 139\u001b[0m \t# self.semantic_segmentation = torch.load('D:/AKG/GSN/Human-Path-Prediction/ynet/segmentation_models/SDD_segmentation.pth')\n\u001b[0;32m    140\u001b[0m \tself.semantic_segmentation = torch.load(r'D:\\AKG\\GSN\\Human-Path-Prediction\\ynet\\pretrained_models\\sdd_longterm_weights.pt')\n\u001b[0;32m    141\u001b[0m \tif use_features_only:\n",
      "File \u001b[1;32mc:\\Users\\adeel\\AppData\\Local\\Programs\\Python\\Python310\\lib\\site-packages\\torch\\serialization.py:795\u001b[0m, in \u001b[0;36mload\u001b[1;34m(f, map_location, pickle_module, weights_only, **pickle_load_args)\u001b[0m\n\u001b[0;32m    793\u001b[0m     \u001b[39mexcept\u001b[39;00m \u001b[39mRuntimeError\u001b[39;00m \u001b[39mas\u001b[39;00m e:\n\u001b[0;32m    794\u001b[0m         \u001b[39mraise\u001b[39;00m pickle\u001b[39m.\u001b[39mUnpicklingError(UNSAFE_MESSAGE \u001b[39m+\u001b[39m \u001b[39mstr\u001b[39m(e)) \u001b[39mfrom\u001b[39;00m \u001b[39mNone\u001b[39;00m\n\u001b[1;32m--> 795\u001b[0m \u001b[39mreturn\u001b[39;00m _legacy_load(opened_file, map_location, pickle_module, \u001b[39m*\u001b[39m\u001b[39m*\u001b[39mpickle_load_args)\n",
      "File \u001b[1;32mc:\\Users\\adeel\\AppData\\Local\\Programs\\Python\\Python310\\lib\\site-packages\\torch\\serialization.py:1012\u001b[0m, in \u001b[0;36m_legacy_load\u001b[1;34m(f, map_location, pickle_module, **pickle_load_args)\u001b[0m\n\u001b[0;32m   1010\u001b[0m unpickler \u001b[39m=\u001b[39m UnpicklerWrapper(f, \u001b[39m*\u001b[39m\u001b[39m*\u001b[39mpickle_load_args)\n\u001b[0;32m   1011\u001b[0m unpickler\u001b[39m.\u001b[39mpersistent_load \u001b[39m=\u001b[39m persistent_load\n\u001b[1;32m-> 1012\u001b[0m result \u001b[39m=\u001b[39m unpickler\u001b[39m.\u001b[39;49mload()\n\u001b[0;32m   1014\u001b[0m deserialized_storage_keys \u001b[39m=\u001b[39m pickle_module\u001b[39m.\u001b[39mload(f, \u001b[39m*\u001b[39m\u001b[39m*\u001b[39mpickle_load_args)\n\u001b[0;32m   1016\u001b[0m offset \u001b[39m=\u001b[39m f\u001b[39m.\u001b[39mtell() \u001b[39mif\u001b[39;00m f_should_read_directly \u001b[39melse\u001b[39;00m \u001b[39mNone\u001b[39;00m\n",
      "File \u001b[1;32mc:\\Users\\adeel\\AppData\\Local\\Programs\\Python\\Python310\\lib\\site-packages\\torch\\serialization.py:828\u001b[0m, in \u001b[0;36m_legacy_load.<locals>.UnpicklerWrapper.find_class\u001b[1;34m(self, mod_name, name)\u001b[0m\n\u001b[0;32m    826\u001b[0m     \u001b[39mexcept\u001b[39;00m \u001b[39mKeyError\u001b[39;00m:\n\u001b[0;32m    827\u001b[0m         \u001b[39mpass\u001b[39;00m\n\u001b[1;32m--> 828\u001b[0m \u001b[39mreturn\u001b[39;00m \u001b[39msuper\u001b[39;49m()\u001b[39m.\u001b[39;49mfind_class(mod_name, name)\n",
      "\u001b[1;31mModuleNotFoundError\u001b[0m: No module named 'segmentation_models_pytorch'"
     ]
    }
   ],
   "source": [
    "model = YNet(obs_len=OBS_LEN, pred_len=PRED_LEN, params=params)"
   ]
  },
  {
   "cell_type": "code",
   "execution_count": 26,
   "id": "indoor-communist",
   "metadata": {},
   "outputs": [
    {
     "name": "stdout",
     "output_type": "stream",
     "text": [
      "Unexpected exception formatting exception. Falling back to standard exception\n"
     ]
    },
    {
     "name": "stderr",
     "output_type": "stream",
     "text": [
      "Traceback (most recent call last):\n",
      "  File \"c:\\Users\\adeel\\AppData\\Local\\Programs\\Python\\Python310\\lib\\site-packages\\IPython\\core\\interactiveshell.py\", line 3398, in run_code\n",
      "    exec(code_obj, self.user_global_ns, self.user_ns)\n",
      "  File \"C:\\Users\\adeel\\AppData\\Local\\Temp\\ipykernel_1664\\2962444527.py\", line 1, in <cell line: 1>\n",
      "    model.load(r'D:\\AKG\\GSN\\Human-Path-Prediction\\ynet\\pretrained_models\\sdd_longterm_weights.pt')\n",
      "  File \"d:\\AKG\\GSN\\Human-Path-Prediction\\ynet\\model.py\", line 417, in load\n",
      "    print(self.model.load_state_dict(torch.load(path)))\n",
      "  File \"c:\\Users\\adeel\\AppData\\Local\\Programs\\Python\\Python310\\lib\\site-packages\\torch\\nn\\modules\\module.py\", line 1671, in load_state_dict\n",
      "    raise RuntimeError('Error(s) in loading state_dict for {}:\\n\\t{}'.format(\n",
      "RuntimeError: Error(s) in loading state_dict for YNetTorch:\n",
      "\tUnexpected key(s) in state_dict: \"semantic_segmentation.encoder.conv1.weight\", \"semantic_segmentation.encoder.bn1.weight\", \"semantic_segmentation.encoder.bn1.bias\", \"semantic_segmentation.encoder.bn1.running_mean\", \"semantic_segmentation.encoder.bn1.running_var\", \"semantic_segmentation.encoder.bn1.num_batches_tracked\", \"semantic_segmentation.encoder.layer1.0.conv1.weight\", \"semantic_segmentation.encoder.layer1.0.bn1.weight\", \"semantic_segmentation.encoder.layer1.0.bn1.bias\", \"semantic_segmentation.encoder.layer1.0.bn1.running_mean\", \"semantic_segmentation.encoder.layer1.0.bn1.running_var\", \"semantic_segmentation.encoder.layer1.0.bn1.num_batches_tracked\", \"semantic_segmentation.encoder.layer1.0.conv2.weight\", \"semantic_segmentation.encoder.layer1.0.bn2.weight\", \"semantic_segmentation.encoder.layer1.0.bn2.bias\", \"semantic_segmentation.encoder.layer1.0.bn2.running_mean\", \"semantic_segmentation.encoder.layer1.0.bn2.running_var\", \"semantic_segmentation.encoder.layer1.0.bn2.num_batches_tracked\", \"semantic_segmentation.encoder.layer1.0.conv3.weight\", \"semantic_segmentation.encoder.layer1.0.bn3.weight\", \"semantic_segmentation.encoder.layer1.0.bn3.bias\", \"semantic_segmentation.encoder.layer1.0.bn3.running_mean\", \"semantic_segmentation.encoder.layer1.0.bn3.running_var\", \"semantic_segmentation.encoder.layer1.0.bn3.num_batches_tracked\", \"semantic_segmentation.encoder.layer1.0.downsample.0.weight\", \"semantic_segmentation.encoder.layer1.0.downsample.1.weight\", \"semantic_segmentation.encoder.layer1.0.downsample.1.bias\", \"semantic_segmentation.encoder.layer1.0.downsample.1.running_mean\", \"semantic_segmentation.encoder.layer1.0.downsample.1.running_var\", \"semantic_segmentation.encoder.layer1.0.downsample.1.num_batches_tracked\", \"semantic_segmentation.encoder.layer1.1.conv1.weight\", \"semantic_segmentation.encoder.layer1.1.bn1.weight\", \"semantic_segmentation.encoder.layer1.1.bn1.bias\", \"semantic_segmentation.encoder.layer1.1.bn1.running_mean\", \"semantic_segmentation.encoder.layer1.1.bn1.running_var\", \"semantic_segmentation.encoder.layer1.1.bn1.num_batches_tracked\", \"semantic_segmentation.encoder.layer1.1.conv2.weight\", \"semantic_segmentation.encoder.layer1.1.bn2.weight\", \"semantic_segmentation.encoder.layer1.1.bn2.bias\", \"semantic_segmentation.encoder.layer1.1.bn2.running_mean\", \"semantic_segmentation.encoder.layer1.1.bn2.running_var\", \"semantic_segmentation.encoder.layer1.1.bn2.num_batches_tracked\", \"semantic_segmentation.encoder.layer1.1.conv3.weight\", \"semantic_segmentation.encoder.layer1.1.bn3.weight\", \"semantic_segmentation.encoder.layer1.1.bn3.bias\", \"semantic_segmentation.encoder.layer1.1.bn3.running_mean\", \"semantic_segmentation.encoder.layer1.1.bn3.running_var\", \"semantic_segmentation.encoder.layer1.1.bn3.num_batches_tracked\", \"semantic_segmentation.encoder.layer1.2.conv1.weight\", \"semantic_segmentation.encoder.layer1.2.bn1.weight\", \"semantic_segmentation.encoder.layer1.2.bn1.bias\", \"semantic_segmentation.encoder.layer1.2.bn1.running_mean\", \"semantic_segmentation.encoder.layer1.2.bn1.running_var\", \"semantic_segmentation.encoder.layer1.2.bn1.num_batches_tracked\", \"semantic_segmentation.encoder.layer1.2.conv2.weight\", \"semantic_segmentation.encoder.layer1.2.bn2.weight\", \"semantic_segmentation.encoder.layer1.2.bn2.bias\", \"semantic_segmentation.encoder.layer1.2.bn2.running_mean\", \"semantic_segmentation.encoder.layer1.2.bn2.running_var\", \"semantic_segmentation.encoder.layer1.2.bn2.num_batches_tracked\", \"semantic_segmentation.encoder.layer1.2.conv3.weight\", \"semantic_segmentation.encoder.layer1.2.bn3.weight\", \"semantic_segmentation.encoder.layer1.2.bn3.bias\", \"semantic_segmentation.encoder.layer1.2.bn3.running_mean\", \"semantic_segmentation.encoder.layer1.2.bn3.running_var\", \"semantic_segmentation.encoder.layer1.2.bn3.num_batches_tracked\", \"semantic_segmentation.encoder.layer2.0.conv1.weight\", \"semantic_segmentation.encoder.layer2.0.bn1.weight\", \"semantic_segmentation.encoder.layer2.0.bn1.bias\", \"semantic_segmentation.encoder.layer2.0.bn1.running_mean\", \"semantic_segmentation.encoder.layer2.0.bn1.running_var\", \"semantic_segmentation.encoder.layer2.0.bn1.num_batches_tracked\", \"semantic_segmentation.encoder.layer2.0.conv2.weight\", \"semantic_segmentation.encoder.layer2.0.bn2.weight\", \"semantic_segmentation.encoder.layer2.0.bn2.bias\", \"semantic_segmentation.encoder.layer2.0.bn2.running_mean\", \"semantic_segmentation.encoder.layer2.0.bn2.running_var\", \"semantic_segmentation.encoder.layer2.0.bn2.num_batches_tracked\", \"semantic_segmentation.encoder.layer2.0.conv3.weight\", \"semantic_segmentation.encoder.layer2.0.bn3.weight\", \"semantic_segmentation.encoder.layer2.0.bn3.bias\", \"semantic_segmentation.encoder.layer2.0.bn3.running_mean\", \"semantic_segmentation.encoder.layer2.0.bn3.running_var\", \"semantic_segmentation.encoder.layer2.0.bn3.num_batches_tracked\", \"semantic_segmentation.encoder.layer2.0.downsample.0.weight\", \"semantic_segmentation.encoder.layer2.0.downsample.1.weight\", \"semantic_segmentation.encoder.layer2.0.downsample.1.bias\", \"semantic_segmentation.encoder.layer2.0.downsample.1.running_mean\", \"semantic_segmentation.encoder.layer2.0.downsample.1.running_var\", \"semantic_segmentation.encoder.layer2.0.downsample.1.num_batches_tracked\", \"semantic_segmentation.encoder.layer2.1.conv1.weight\", \"semantic_segmentation.encoder.layer2.1.bn1.weight\", \"semantic_segmentation.encoder.layer2.1.bn1.bias\", \"semantic_segmentation.encoder.layer2.1.bn1.running_mean\", \"semantic_segmentation.encoder.layer2.1.bn1.running_var\", \"semantic_segmentation.encoder.layer2.1.bn1.num_batches_tracked\", \"semantic_segmentation.encoder.layer2.1.conv2.weight\", \"semantic_segmentation.encoder.layer2.1.bn2.weight\", \"semantic_segmentation.encoder.layer2.1.bn2.bias\", \"semantic_segmentation.encoder.layer2.1.bn2.running_mean\", \"semantic_segmentation.encoder.layer2.1.bn2.running_var\", \"semantic_segmentation.encoder.layer2.1.bn2.num_batches_tracked\", \"semantic_segmentation.encoder.layer2.1.conv3.weight\", \"semantic_segmentation.encoder.layer2.1.bn3.weight\", \"semantic_segmentation.encoder.layer2.1.bn3.bias\", \"semantic_segmentation.encoder.layer2.1.bn3.running_mean\", \"semantic_segmentation.encoder.layer2.1.bn3.running_var\", \"semantic_segmentation.encoder.layer2.1.bn3.num_batches_tracked\", \"semantic_segmentation.encoder.layer2.2.conv1.weight\", \"semantic_segmentation.encoder.layer2.2.bn1.weight\", \"semantic_segmentation.encoder.layer2.2.bn1.bias\", \"semantic_segmentation.encoder.layer2.2.bn1.running_mean\", \"semantic_segmentation.encoder.layer2.2.bn1.running_var\", \"semantic_segmentation.encoder.layer2.2.bn1.num_batches_tracked\", \"semantic_segmentation.encoder.layer2.2.conv2.weight\", \"semantic_segmentation.encoder.layer2.2.bn2.weight\", \"semantic_segmentation.encoder.layer2.2.bn2.bias\", \"semantic_segmentation.encoder.layer2.2.bn2.running_mean\", \"semantic_segmentation.encoder.layer2.2.bn2.running_var\", \"semantic_segmentation.encoder.layer2.2.bn2.num_batches_tracked\", \"semantic_segmentation.encoder.layer2.2.conv3.weight\", \"semantic_segmentation.encoder.layer2.2.bn3.weight\", \"semantic_segmentation.encoder.layer2.2.bn3.bias\", \"semantic_segmentation.encoder.layer2.2.bn3.running_mean\", \"semantic_segmentation.encoder.layer2.2.bn3.running_var\", \"semantic_segmentation.encoder.layer2.2.bn3.num_batches_tracked\", \"semantic_segmentation.encoder.layer2.3.conv1.weight\", \"semantic_segmentation.encoder.layer2.3.bn1.weight\", \"semantic_segmentation.encoder.layer2.3.bn1.bias\", \"semantic_segmentation.encoder.layer2.3.bn1.running_mean\", \"semantic_segmentation.encoder.layer2.3.bn1.running_var\", \"semantic_segmentation.encoder.layer2.3.bn1.num_batches_tracked\", \"semantic_segmentation.encoder.layer2.3.conv2.weight\", \"semantic_segmentation.encoder.layer2.3.bn2.weight\", \"semantic_segmentation.encoder.layer2.3.bn2.bias\", \"semantic_segmentation.encoder.layer2.3.bn2.running_mean\", \"semantic_segmentation.encoder.layer2.3.bn2.running_var\", \"semantic_segmentation.encoder.layer2.3.bn2.num_batches_tracked\", \"semantic_segmentation.encoder.layer2.3.conv3.weight\", \"semantic_segmentation.encoder.layer2.3.bn3.weight\", \"semantic_segmentation.encoder.layer2.3.bn3.bias\", \"semantic_segmentation.encoder.layer2.3.bn3.running_mean\", \"semantic_segmentation.encoder.layer2.3.bn3.running_var\", \"semantic_segmentation.encoder.layer2.3.bn3.num_batches_tracked\", \"semantic_segmentation.encoder.layer3.0.conv1.weight\", \"semantic_segmentation.encoder.layer3.0.bn1.weight\", \"semantic_segmentation.encoder.layer3.0.bn1.bias\", \"semantic_segmentation.encoder.layer3.0.bn1.running_mean\", \"semantic_segmentation.encoder.layer3.0.bn1.running_var\", \"semantic_segmentation.encoder.layer3.0.bn1.num_batches_tracked\", \"semantic_segmentation.encoder.layer3.0.conv2.weight\", \"semantic_segmentation.encoder.layer3.0.bn2.weight\", \"semantic_segmentation.encoder.layer3.0.bn2.bias\", \"semantic_segmentation.encoder.layer3.0.bn2.running_mean\", \"semantic_segmentation.encoder.layer3.0.bn2.running_var\", \"semantic_segmentation.encoder.layer3.0.bn2.num_batches_tracked\", \"semantic_segmentation.encoder.layer3.0.conv3.weight\", \"semantic_segmentation.encoder.layer3.0.bn3.weight\", \"semantic_segmentation.encoder.layer3.0.bn3.bias\", \"semantic_segmentation.encoder.layer3.0.bn3.running_mean\", \"semantic_segmentation.encoder.layer3.0.bn3.running_var\", \"semantic_segmentation.encoder.layer3.0.bn3.num_batches_tracked\", \"semantic_segmentation.encoder.layer3.0.downsample.0.weight\", \"semantic_segmentation.encoder.layer3.0.downsample.1.weight\", \"semantic_segmentation.encoder.layer3.0.downsample.1.bias\", \"semantic_segmentation.encoder.layer3.0.downsample.1.running_mean\", \"semantic_segmentation.encoder.layer3.0.downsample.1.running_var\", \"semantic_segmentation.encoder.layer3.0.downsample.1.num_batches_tracked\", \"semantic_segmentation.encoder.layer3.1.conv1.weight\", \"semantic_segmentation.encoder.layer3.1.bn1.weight\", \"semantic_segmentation.encoder.layer3.1.bn1.bias\", \"semantic_segmentation.encoder.layer3.1.bn1.running_mean\", \"semantic_segmentation.encoder.layer3.1.bn1.running_var\", \"semantic_segmentation.encoder.layer3.1.bn1.num_batches_tracked\", \"semantic_segmentation.encoder.layer3.1.conv2.weight\", \"semantic_segmentation.encoder.layer3.1.bn2.weight\", \"semantic_segmentation.encoder.layer3.1.bn2.bias\", \"semantic_segmentation.encoder.layer3.1.bn2.running_mean\", \"semantic_segmentation.encoder.layer3.1.bn2.running_var\", \"semantic_segmentation.encoder.layer3.1.bn2.num_batches_tracked\", \"semantic_segmentation.encoder.layer3.1.conv3.weight\", \"semantic_segmentation.encoder.layer3.1.bn3.weight\", \"semantic_segmentation.encoder.layer3.1.bn3.bias\", \"semantic_segmentation.encoder.layer3.1.bn3.running_mean\", \"semantic_segmentation.encoder.layer3.1.bn3.running_var\", \"semantic_segmentation.encoder.layer3.1.bn3.num_batches_tracked\", \"semantic_segmentation.encoder.layer3.2.conv1.weight\", \"semantic_segmentation.encoder.layer3.2.bn1.weight\", \"semantic_segmentation.encoder.layer3.2.bn1.bias\", \"semantic_segmentation.encoder.layer3.2.bn1.running_mean\", \"semantic_segmentation.encoder.layer3.2.bn1.running_var\", \"semantic_segmentation.encoder.layer3.2.bn1.num_batches_tracked\", \"semantic_segmentation.encoder.layer3.2.conv2.weight\", \"semantic_segmentation.encoder.layer3.2.bn2.weight\", \"semantic_segmentation.encoder.layer3.2.bn2.bias\", \"semantic_segmentation.encoder.layer3.2.bn2.running_mean\", \"semantic_segmentation.encoder.layer3.2.bn2.running_var\", \"semantic_segmentation.encoder.layer3.2.bn2.num_batches_tracked\", \"semantic_segmentation.encoder.layer3.2.conv3.weight\", \"semantic_segmentation.encoder.layer3.2.bn3.weight\", \"semantic_segmentation.encoder.layer3.2.bn3.bias\", \"semantic_segmentation.encoder.layer3.2.bn3.running_mean\", \"semantic_segmentation.encoder.layer3.2.bn3.running_var\", \"semantic_segmentation.encoder.layer3.2.bn3.num_batches_tracked\", \"semantic_segmentation.encoder.layer3.3.conv1.weight\", \"semantic_segmentation.encoder.layer3.3.bn1.weight\", \"semantic_segmentation.encoder.layer3.3.bn1.bias\", \"semantic_segmentation.encoder.layer3.3.bn1.running_mean\", \"semantic_segmentation.encoder.layer3.3.bn1.running_var\", \"semantic_segmentation.encoder.layer3.3.bn1.num_batches_tracked\", \"semantic_segmentation.encoder.layer3.3.conv2.weight\", \"semantic_segmentation.encoder.layer3.3.bn2.weight\", \"semantic_segmentation.encoder.layer3.3.bn2.bias\", \"semantic_segmentation.encoder.layer3.3.bn2.running_mean\", \"semantic_segmentation.encoder.layer3.3.bn2.running_var\", \"semantic_segmentation.encoder.layer3.3.bn2.num_batches_tracked\", \"semantic_segmentation.encoder.layer3.3.conv3.weight\", \"semantic_segmentation.encoder.layer3.3.bn3.weight\", \"semantic_segmentation.encoder.layer3.3.bn3.bias\", \"semantic_segmentation.encoder.layer3.3.bn3.running_mean\", \"semantic_segmentation.encoder.layer3.3.bn3.running_var\", \"semantic_segmentation.encoder.layer3.3.bn3.num_batches_tracked\", \"semantic_segmentation.encoder.layer3.4.conv1.weight\", \"semantic_segmentation.encoder.layer3.4.bn1.weight\", \"semantic_segmentation.encoder.layer3.4.bn1.bias\", \"semantic_segmentation.encoder.layer3.4.bn1.running_mean\", \"semantic_segmentation.encoder.layer3.4.bn1.running_var\", \"semantic_segmentation.encoder.layer3.4.bn1.num_batches_tracked\", \"semantic_segmentation.encoder.layer3.4.conv2.weight\", \"semantic_segmentation.encoder.layer3.4.bn2.weight\", \"semantic_segmentation.encoder.layer3.4.bn2.bias\", \"semantic_segmentation.encoder.layer3.4.bn2.running_mean\", \"semantic_segmentation.encoder.layer3.4.bn2.running_var\", \"semantic_segmentation.encoder.layer3.4.bn2.num_batches_tracked\", \"semantic_segmentation.encoder.layer3.4.conv3.weight\", \"semantic_segmentation.encoder.layer3.4.bn3.weight\", \"semantic_segmentation.encoder.layer3.4.bn3.bias\", \"semantic_segmentation.encoder.layer3.4.bn3.running_mean\", \"semantic_segmentation.encoder.layer3.4.bn3.running_var\", \"semantic_segmentation.encoder.layer3.4.bn3.num_batches_tracked\", \"semantic_segmentation.encoder.layer3.5.conv1.weight\", \"semantic_segmentation.encoder.layer3.5.bn1.weight\", \"semantic_segmentation.encoder.layer3.5.bn1.bias\", \"semantic_segmentation.encoder.layer3.5.bn1.running_mean\", \"semantic_segmentation.encoder.layer3.5.bn1.running_var\", \"semantic_segmentation.encoder.layer3.5.bn1.num_batches_tracked\", \"semantic_segmentation.encoder.layer3.5.conv2.weight\", \"semantic_segmentation.encoder.layer3.5.bn2.weight\", \"semantic_segmentation.encoder.layer3.5.bn2.bias\", \"semantic_segmentation.encoder.layer3.5.bn2.running_mean\", \"semantic_segmentation.encoder.layer3.5.bn2.running_var\", \"semantic_segmentation.encoder.layer3.5.bn2.num_batches_tracked\", \"semantic_segmentation.encoder.layer3.5.conv3.weight\", \"semantic_segmentation.encoder.layer3.5.bn3.weight\", \"semantic_segmentation.encoder.layer3.5.bn3.bias\", \"semantic_segmentation.encoder.layer3.5.bn3.running_mean\", \"semantic_segmentation.encoder.layer3.5.bn3.running_var\", \"semantic_segmentation.encoder.layer3.5.bn3.num_batches_tracked\", \"semantic_segmentation.encoder.layer3.6.conv1.weight\", \"semantic_segmentation.encoder.layer3.6.bn1.weight\", \"semantic_segmentation.encoder.layer3.6.bn1.bias\", \"semantic_segmentation.encoder.layer3.6.bn1.running_mean\", \"semantic_segmentation.encoder.layer3.6.bn1.running_var\", \"semantic_segmentation.encoder.layer3.6.bn1.num_batches_tracked\", \"semantic_segmentation.encoder.layer3.6.conv2.weight\", \"semantic_segmentation.encoder.layer3.6.bn2.weight\", \"semantic_segmentation.encoder.layer3.6.bn2.bias\", \"semantic_segmentation.encoder.layer3.6.bn2.running_mean\", \"semantic_segmentation.encoder.layer3.6.bn2.running_var\", \"semantic_segmentation.encoder.layer3.6.bn2.num_batches_tracked\", \"semantic_segmentation.encoder.layer3.6.conv3.weight\", \"semantic_segmentation.encoder.layer3.6.bn3.weight\", \"semantic_segmentation.encoder.layer3.6.bn3.bias\", \"semantic_segmentation.encoder.layer3.6.bn3.running_mean\", \"semantic_segmentation.encoder.layer3.6.bn3.running_var\", \"semantic_segmentation.encoder.layer3.6.bn3.num_batches_tracked\", \"semantic_segmentation.encoder.layer3.7.conv1.weight\", \"semantic_segmentation.encoder.layer3.7.bn1.weight\", \"semantic_segmentation.encoder.layer3.7.bn1.bias\", \"semantic_segmentation.encoder.layer3.7.bn1.running_mean\", \"semantic_segmentation.encoder.layer3.7.bn1.running_var\", \"semantic_segmentation.encoder.layer3.7.bn1.num_batches_tracked\", \"semantic_segmentation.encoder.layer3.7.conv2.weight\", \"semantic_segmentation.encoder.layer3.7.bn2.weight\", \"semantic_segmentation.encoder.layer3.7.bn2.bias\", \"semantic_segmentation.encoder.layer3.7.bn2.running_mean\", \"semantic_segmentation.encoder.layer3.7.bn2.running_var\", \"semantic_segmentation.encoder.layer3.7.bn2.num_batches_tracked\", \"semantic_segmentation.encoder.layer3.7.conv3.weight\", \"semantic_segmentation.encoder.layer3.7.bn3.weight\", \"semantic_segmentation.encoder.layer3.7.bn3.bias\", \"semantic_segmentation.encoder.layer3.7.bn3.running_mean\", \"semantic_segmentation.encoder.layer3.7.bn3.running_var\", \"semantic_segmentation.encoder.layer3.7.bn3.num_batches_tracked\", \"semantic_segmentation.encoder.layer3.8.conv1.weight\", \"semantic_segmentation.encoder.layer3.8.bn1.weight\", \"semantic_segmentation.encoder.layer3.8.bn1.bias\", \"semantic_segmentation.encoder.layer3.8.bn1.running_mean\", \"semantic_segmentation.encoder.layer3.8.bn1.running_var\", \"semantic_segmentation.encoder.layer3.8.bn1.num_batches_tracked\", \"semantic_segmentation.encoder.layer3.8.conv2.weight\", \"semantic_segmentation.encoder.layer3.8.bn2.weight\", \"semantic_segmentation.encoder.layer3.8.bn2.bias\", \"semantic_segmentation.encoder.layer3.8.bn2.running_mean\", \"semantic_segmentation.encoder.layer3.8.bn2.running_var\", \"semantic_segmentation.encoder.layer3.8.bn2.num_batches_tracked\", \"semantic_segmentation.encoder.layer3.8.conv3.weight\", \"semantic_segmentation.encoder.layer3.8.bn3.weight\", \"semantic_segmentation.encoder.layer3.8.bn3.bias\", \"semantic_segmentation.encoder.layer3.8.bn3.running_mean\", \"semantic_segmentation.encoder.layer3.8.bn3.running_var\", \"semantic_segmentation.encoder.layer3.8.bn3.num_batches_tracked\", \"semantic_segmentation.encoder.layer3.9.conv1.weight\", \"semantic_segmentation.encoder.layer3.9.bn1.weight\", \"semantic_segmentation.encoder.layer3.9.bn1.bias\", \"semantic_segmentation.encoder.layer3.9.bn1.running_mean\", \"semantic_segmentation.encoder.layer3.9.bn1.running_var\", \"semantic_segmentation.encoder.layer3.9.bn1.num_batches_tracked\", \"semantic_segmentation.encoder.layer3.9.conv2.weight\", \"semantic_segmentation.encoder.layer3.9.bn2.weight\", \"semantic_segmentation.encoder.layer3.9.bn2.bias\", \"semantic_segmentation.encoder.layer3.9.bn2.running_mean\", \"semantic_segmentation.encoder.layer3.9.bn2.running_var\", \"semantic_segmentation.encoder.layer3.9.bn2.num_batches_tracked\", \"semantic_segmentation.encoder.layer3.9.conv3.weight\", \"semantic_segmentation.encoder.layer3.9.bn3.weight\", \"semantic_segmentation.encoder.layer3.9.bn3.bias\", \"semantic_segmentation.encoder.layer3.9.bn3.running_mean\", \"semantic_segmentation.encoder.layer3.9.bn3.running_var\", \"semantic_segmentation.encoder.layer3.9.bn3.num_batches_tracked\", \"semantic_segmentation.encoder.layer3.10.conv1.weight\", \"semantic_segmentation.encoder.layer3.10.bn1.weight\", \"semantic_segmentation.encoder.layer3.10.bn1.bias\", \"semantic_segmentation.encoder.layer3.10.bn1.running_mean\", \"semantic_segmentation.encoder.layer3.10.bn1.running_var\", \"semantic_segmentation.encoder.layer3.10.bn1.num_batches_tracked\", \"semantic_segmentation.encoder.layer3.10.conv2.weight\", \"semantic_segmentation.encoder.layer3.10.bn2.weight\", \"semantic_segmentation.encoder.layer3.10.bn2.bias\", \"semantic_segmentation.encoder.layer3.10.bn2.running_mean\", \"semantic_segmentation.encoder.layer3.10.bn2.running_var\", \"semantic_segmentation.encoder.layer3.10.bn2.num_batches_tracked\", \"semantic_segmentation.encoder.layer3.10.conv3.weight\", \"semantic_segmentation.encoder.layer3.10.bn3.weight\", \"semantic_segmentation.encoder.layer3.10.bn3.bias\", \"semantic_segmentation.encoder.layer3.10.bn3.running_mean\", \"semantic_segmentation.encoder.layer3.10.bn3.running_var\", \"semantic_segmentation.encoder.layer3.10.bn3.num_batches_tracked\", \"semantic_segmentation.encoder.layer3.11.conv1.weight\", \"semantic_segmentation.encoder.layer3.11.bn1.weight\", \"semantic_segmentation.encoder.layer3.11.bn1.bias\", \"semantic_segmentation.encoder.layer3.11.bn1.running_mean\", \"semantic_segmentation.encoder.layer3.11.bn1.running_var\", \"semantic_segmentation.encoder.layer3.11.bn1.num_batches_tracked\", \"semantic_segmentation.encoder.layer3.11.conv2.weight\", \"semantic_segmentation.encoder.layer3.11.bn2.weight\", \"semantic_segmentation.encoder.layer3.11.bn2.bias\", \"semantic_segmentation.encoder.layer3.11.bn2.running_mean\", \"semantic_segmentation.encoder.layer3.11.bn2.running_var\", \"semantic_segmentation.encoder.layer3.11.bn2.num_batches_tracked\", \"semantic_segmentation.encoder.layer3.11.conv3.weight\", \"semantic_segmentation.encoder.layer3.11.bn3.weight\", \"semantic_segmentation.encoder.layer3.11.bn3.bias\", \"semantic_segmentation.encoder.layer3.11.bn3.running_mean\", \"semantic_segmentation.encoder.layer3.11.bn3.running_var\", \"semantic_segmentation.encoder.layer3.11.bn3.num_batches_tracked\", \"semantic_segmentation.encoder.layer3.12.conv1.weight\", \"semantic_segmentation.encoder.layer3.12.bn1.weight\", \"semantic_segmentation.encoder.layer3.12.bn1.bias\", \"semantic_segmentation.encoder.layer3.12.bn1.running_mean\", \"semantic_segmentation.encoder.layer3.12.bn1.running_var\", \"semantic_segmentation.encoder.layer3.12.bn1.num_batches_tracked\", \"semantic_segmentation.encoder.layer3.12.conv2.weight\", \"semantic_segmentation.encoder.layer3.12.bn2.weight\", \"semantic_segmentation.encoder.layer3.12.bn2.bias\", \"semantic_segmentation.encoder.layer3.12.bn2.running_mean\", \"semantic_segmentation.encoder.layer3.12.bn2.running_var\", \"semantic_segmentation.encoder.layer3.12.bn2.num_batches_tracked\", \"semantic_segmentation.encoder.layer3.12.conv3.weight\", \"semantic_segmentation.encoder.layer3.12.bn3.weight\", \"semantic_segmentation.encoder.layer3.12.bn3.bias\", \"semantic_segmentation.encoder.layer3.12.bn3.running_mean\", \"semantic_segmentation.encoder.layer3.12.bn3.running_var\", \"semantic_segmentation.encoder.layer3.12.bn3.num_batches_tracked\", \"semantic_segmentation.encoder.layer3.13.conv1.weight\", \"semantic_segmentation.encoder.layer3.13.bn1.weight\", \"semantic_segmentation.encoder.layer3.13.bn1.bias\", \"semantic_segmentation.encoder.layer3.13.bn1.running_mean\", \"semantic_segmentation.encoder.layer3.13.bn1.running_var\", \"semantic_segmentation.encoder.layer3.13.bn1.num_batches_tracked\", \"semantic_segmentation.encoder.layer3.13.conv2.weight\", \"semantic_segmentation.encoder.layer3.13.bn2.weight\", \"semantic_segmentation.encoder.layer3.13.bn2.bias\", \"semantic_segmentation.encoder.layer3.13.bn2.running_mean\", \"semantic_segmentation.encoder.layer3.13.bn2.running_var\", \"semantic_segmentation.encoder.layer3.13.bn2.num_batches_tracked\", \"semantic_segmentation.encoder.layer3.13.conv3.weight\", \"semantic_segmentation.encoder.layer3.13.bn3.weight\", \"semantic_segmentation.encoder.layer3.13.bn3.bias\", \"semantic_segmentation.encoder.layer3.13.bn3.running_mean\", \"semantic_segmentation.encoder.layer3.13.bn3.running_var\", \"semantic_segmentation.encoder.layer3.13.bn3.num_batches_tracked\", \"semantic_segmentation.encoder.layer3.14.conv1.weight\", \"semantic_segmentation.encoder.layer3.14.bn1.weight\", \"semantic_segmentation.encoder.layer3.14.bn1.bias\", \"semantic_segmentation.encoder.layer3.14.bn1.running_mean\", \"semantic_segmentation.encoder.layer3.14.bn1.running_var\", \"semantic_segmentation.encoder.layer3.14.bn1.num_batches_tracked\", \"semantic_segmentation.encoder.layer3.14.conv2.weight\", \"semantic_segmentation.encoder.layer3.14.bn2.weight\", \"semantic_segmentation.encoder.layer3.14.bn2.bias\", \"semantic_segmentation.encoder.layer3.14.bn2.running_mean\", \"semantic_segmentation.encoder.layer3.14.bn2.running_var\", \"semantic_segmentation.encoder.layer3.14.bn2.num_batches_tracked\", \"semantic_segmentation.encoder.layer3.14.conv3.weight\", \"semantic_segmentation.encoder.layer3.14.bn3.weight\", \"semantic_segmentation.encoder.layer3.14.bn3.bias\", \"semantic_segmentation.encoder.layer3.14.bn3.running_mean\", \"semantic_segmentation.encoder.layer3.14.bn3.running_var\", \"semantic_segmentation.encoder.layer3.14.bn3.num_batches_tracked\", \"semantic_segmentation.encoder.layer3.15.conv1.weight\", \"semantic_segmentation.encoder.layer3.15.bn1.weight\", \"semantic_segmentation.encoder.layer3.15.bn1.bias\", \"semantic_segmentation.encoder.layer3.15.bn1.running_mean\", \"semantic_segmentation.encoder.layer3.15.bn1.running_var\", \"semantic_segmentation.encoder.layer3.15.bn1.num_batches_tracked\", \"semantic_segmentation.encoder.layer3.15.conv2.weight\", \"semantic_segmentation.encoder.layer3.15.bn2.weight\", \"semantic_segmentation.encoder.layer3.15.bn2.bias\", \"semantic_segmentation.encoder.layer3.15.bn2.running_mean\", \"semantic_segmentation.encoder.layer3.15.bn2.running_var\", \"semantic_segmentation.encoder.layer3.15.bn2.num_batches_tracked\", \"semantic_segmentation.encoder.layer3.15.conv3.weight\", \"semantic_segmentation.encoder.layer3.15.bn3.weight\", \"semantic_segmentation.encoder.layer3.15.bn3.bias\", \"semantic_segmentation.encoder.layer3.15.bn3.running_mean\", \"semantic_segmentation.encoder.layer3.15.bn3.running_var\", \"semantic_segmentation.encoder.layer3.15.bn3.num_batches_tracked\", \"semantic_segmentation.encoder.layer3.16.conv1.weight\", \"semantic_segmentation.encoder.layer3.16.bn1.weight\", \"semantic_segmentation.encoder.layer3.16.bn1.bias\", \"semantic_segmentation.encoder.layer3.16.bn1.running_mean\", \"semantic_segmentation.encoder.layer3.16.bn1.running_var\", \"semantic_segmentation.encoder.layer3.16.bn1.num_batches_tracked\", \"semantic_segmentation.encoder.layer3.16.conv2.weight\", \"semantic_segmentation.encoder.layer3.16.bn2.weight\", \"semantic_segmentation.encoder.layer3.16.bn2.bias\", \"semantic_segmentation.encoder.layer3.16.bn2.running_mean\", \"semantic_segmentation.encoder.layer3.16.bn2.running_var\", \"semantic_segmentation.encoder.layer3.16.bn2.num_batches_tracked\", \"semantic_segmentation.encoder.layer3.16.conv3.weight\", \"semantic_segmentation.encoder.layer3.16.bn3.weight\", \"semantic_segmentation.encoder.layer3.16.bn3.bias\", \"semantic_segmentation.encoder.layer3.16.bn3.running_mean\", \"semantic_segmentation.encoder.layer3.16.bn3.running_var\", \"semantic_segmentation.encoder.layer3.16.bn3.num_batches_tracked\", \"semantic_segmentation.encoder.layer3.17.conv1.weight\", \"semantic_segmentation.encoder.layer3.17.bn1.weight\", \"semantic_segmentation.encoder.layer3.17.bn1.bias\", \"semantic_segmentation.encoder.layer3.17.bn1.running_mean\", \"semantic_segmentation.encoder.layer3.17.bn1.running_var\", \"semantic_segmentation.encoder.layer3.17.bn1.num_batches_tracked\", \"semantic_segmentation.encoder.layer3.17.conv2.weight\", \"semantic_segmentation.encoder.layer3.17.bn2.weight\", \"semantic_segmentation.encoder.layer3.17.bn2.bias\", \"semantic_segmentation.encoder.layer3.17.bn2.running_mean\", \"semantic_segmentation.encoder.layer3.17.bn2.running_var\", \"semantic_segmentation.encoder.layer3.17.bn2.num_batches_tracked\", \"semantic_segmentation.encoder.layer3.17.conv3.weight\", \"semantic_segmentation.encoder.layer3.17.bn3.weight\", \"semantic_segmentation.encoder.layer3.17.bn3.bias\", \"semantic_segmentation.encoder.layer3.17.bn3.running_mean\", \"semantic_segmentation.encoder.layer3.17.bn3.running_var\", \"semantic_segmentation.encoder.layer3.17.bn3.num_batches_tracked\", \"semantic_segmentation.encoder.layer3.18.conv1.weight\", \"semantic_segmentation.encoder.layer3.18.bn1.weight\", \"semantic_segmentation.encoder.layer3.18.bn1.bias\", \"semantic_segmentation.encoder.layer3.18.bn1.running_mean\", \"semantic_segmentation.encoder.layer3.18.bn1.running_var\", \"semantic_segmentation.encoder.layer3.18.bn1.num_batches_tracked\", \"semantic_segmentation.encoder.layer3.18.conv2.weight\", \"semantic_segmentation.encoder.layer3.18.bn2.weight\", \"semantic_segmentation.encoder.layer3.18.bn2.bias\", \"semantic_segmentation.encoder.layer3.18.bn2.running_mean\", \"semantic_segmentation.encoder.layer3.18.bn2.running_var\", \"semantic_segmentation.encoder.layer3.18.bn2.num_batches_tracked\", \"semantic_segmentation.encoder.layer3.18.conv3.weight\", \"semantic_segmentation.encoder.layer3.18.bn3.weight\", \"semantic_segmentation.encoder.layer3.18.bn3.bias\", \"semantic_segmentation.encoder.layer3.18.bn3.running_mean\", \"semantic_segmentation.encoder.layer3.18.bn3.running_var\", \"semantic_segmentation.encoder.layer3.18.bn3.num_batches_tracked\", \"semantic_segmentation.encoder.layer3.19.conv1.weight\", \"semantic_segmentation.encoder.layer3.19.bn1.weight\", \"semantic_segmentation.encoder.layer3.19.bn1.bias\", \"semantic_segmentation.encoder.layer3.19.bn1.running_mean\", \"semantic_segmentation.encoder.layer3.19.bn1.running_var\", \"semantic_segmentation.encoder.layer3.19.bn1.num_batches_tracked\", \"semantic_segmentation.encoder.layer3.19.conv2.weight\", \"semantic_segmentation.encoder.layer3.19.bn2.weight\", \"semantic_segmentation.encoder.layer3.19.bn2.bias\", \"semantic_segmentation.encoder.layer3.19.bn2.running_mean\", \"semantic_segmentation.encoder.layer3.19.bn2.running_var\", \"semantic_segmentation.encoder.layer3.19.bn2.num_batches_tracked\", \"semantic_segmentation.encoder.layer3.19.conv3.weight\", \"semantic_segmentation.encoder.layer3.19.bn3.weight\", \"semantic_segmentation.encoder.layer3.19.bn3.bias\", \"semantic_segmentation.encoder.layer3.19.bn3.running_mean\", \"semantic_segmentation.encoder.layer3.19.bn3.running_var\", \"semantic_segmentation.encoder.layer3.19.bn3.num_batches_tracked\", \"semantic_segmentation.encoder.layer3.20.conv1.weight\", \"semantic_segmentation.encoder.layer3.20.bn1.weight\", \"semantic_segmentation.encoder.layer3.20.bn1.bias\", \"semantic_segmentation.encoder.layer3.20.bn1.running_mean\", \"semantic_segmentation.encoder.layer3.20.bn1.running_var\", \"semantic_segmentation.encoder.layer3.20.bn1.num_batches_tracked\", \"semantic_segmentation.encoder.layer3.20.conv2.weight\", \"semantic_segmentation.encoder.layer3.20.bn2.weight\", \"semantic_segmentation.encoder.layer3.20.bn2.bias\", \"semantic_segmentation.encoder.layer3.20.bn2.running_mean\", \"semantic_segmentation.encoder.layer3.20.bn2.running_var\", \"semantic_segmentation.encoder.layer3.20.bn2.num_batches_tracked\", \"semantic_segmentation.encoder.layer3.20.conv3.weight\", \"semantic_segmentation.encoder.layer3.20.bn3.weight\", \"semantic_segmentation.encoder.layer3.20.bn3.bias\", \"semantic_segmentation.encoder.layer3.20.bn3.running_mean\", \"semantic_segmentation.encoder.layer3.20.bn3.running_var\", \"semantic_segmentation.encoder.layer3.20.bn3.num_batches_tracked\", \"semantic_segmentation.encoder.layer3.21.conv1.weight\", \"semantic_segmentation.encoder.layer3.21.bn1.weight\", \"semantic_segmentation.encoder.layer3.21.bn1.bias\", \"semantic_segmentation.encoder.layer3.21.bn1.running_mean\", \"semantic_segmentation.encoder.layer3.21.bn1.running_var\", \"semantic_segmentation.encoder.layer3.21.bn1.num_batches_tracked\", \"semantic_segmentation.encoder.layer3.21.conv2.weight\", \"semantic_segmentation.encoder.layer3.21.bn2.weight\", \"semantic_segmentation.encoder.layer3.21.bn2.bias\", \"semantic_segmentation.encoder.layer3.21.bn2.running_mean\", \"semantic_segmentation.encoder.layer3.21.bn2.running_var\", \"semantic_segmentation.encoder.layer3.21.bn2.num_batches_tracked\", \"semantic_segmentation.encoder.layer3.21.conv3.weight\", \"semantic_segmentation.encoder.layer3.21.bn3.weight\", \"semantic_segmentation.encoder.layer3.21.bn3.bias\", \"semantic_segmentation.encoder.layer3.21.bn3.running_mean\", \"semantic_segmentation.encoder.layer3.21.bn3.running_var\", \"semantic_segmentation.encoder.layer3.21.bn3.num_batches_tracked\", \"semantic_segmentation.encoder.layer3.22.conv1.weight\", \"semantic_segmentation.encoder.layer3.22.bn1.weight\", \"semantic_segmentation.encoder.layer3.22.bn1.bias\", \"semantic_segmentation.encoder.layer3.22.bn1.running_mean\", \"semantic_segmentation.encoder.layer3.22.bn1.running_var\", \"semantic_segmentation.encoder.layer3.22.bn1.num_batches_tracked\", \"semantic_segmentation.encoder.layer3.22.conv2.weight\", \"semantic_segmentation.encoder.layer3.22.bn2.weight\", \"semantic_segmentation.encoder.layer3.22.bn2.bias\", \"semantic_segmentation.encoder.layer3.22.bn2.running_mean\", \"semantic_segmentation.encoder.layer3.22.bn2.running_var\", \"semantic_segmentation.encoder.layer3.22.bn2.num_batches_tracked\", \"semantic_segmentation.encoder.layer3.22.conv3.weight\", \"semantic_segmentation.encoder.layer3.22.bn3.weight\", \"semantic_segmentation.encoder.layer3.22.bn3.bias\", \"semantic_segmentation.encoder.layer3.22.bn3.running_mean\", \"semantic_segmentation.encoder.layer3.22.bn3.running_var\", \"semantic_segmentation.encoder.layer3.22.bn3.num_batches_tracked\", \"semantic_segmentation.encoder.layer4.0.conv1.weight\", \"semantic_segmentation.encoder.layer4.0.bn1.weight\", \"semantic_segmentation.encoder.layer4.0.bn1.bias\", \"semantic_segmentation.encoder.layer4.0.bn1.running_mean\", \"semantic_segmentation.encoder.layer4.0.bn1.running_var\", \"semantic_segmentation.encoder.layer4.0.bn1.num_batches_tracked\", \"semantic_segmentation.encoder.layer4.0.conv2.weight\", \"semantic_segmentation.encoder.layer4.0.bn2.weight\", \"semantic_segmentation.encoder.layer4.0.bn2.bias\", \"semantic_segmentation.encoder.layer4.0.bn2.running_mean\", \"semantic_segmentation.encoder.layer4.0.bn2.running_var\", \"semantic_segmentation.encoder.layer4.0.bn2.num_batches_tracked\", \"semantic_segmentation.encoder.layer4.0.conv3.weight\", \"semantic_segmentation.encoder.layer4.0.bn3.weight\", \"semantic_segmentation.encoder.layer4.0.bn3.bias\", \"semantic_segmentation.encoder.layer4.0.bn3.running_mean\", \"semantic_segmentation.encoder.layer4.0.bn3.running_var\", \"semantic_segmentation.encoder.layer4.0.bn3.num_batches_tracked\", \"semantic_segmentation.encoder.layer4.0.downsample.0.weight\", \"semantic_segmentation.encoder.layer4.0.downsample.1.weight\", \"semantic_segmentation.encoder.layer4.0.downsample.1.bias\", \"semantic_segmentation.encoder.layer4.0.downsample.1.running_mean\", \"semantic_segmentation.encoder.layer4.0.downsample.1.running_var\", \"semantic_segmentation.encoder.layer4.0.downsample.1.num_batches_tracked\", \"semantic_segmentation.encoder.layer4.1.conv1.weight\", \"semantic_segmentation.encoder.layer4.1.bn1.weight\", \"semantic_segmentation.encoder.layer4.1.bn1.bias\", \"semantic_segmentation.encoder.layer4.1.bn1.running_mean\", \"semantic_segmentation.encoder.layer4.1.bn1.running_var\", \"semantic_segmentation.encoder.layer4.1.bn1.num_batches_tracked\", \"semantic_segmentation.encoder.layer4.1.conv2.weight\", \"semantic_segmentation.encoder.layer4.1.bn2.weight\", \"semantic_segmentation.encoder.layer4.1.bn2.bias\", \"semantic_segmentation.encoder.layer4.1.bn2.running_mean\", \"semantic_segmentation.encoder.layer4.1.bn2.running_var\", \"semantic_segmentation.encoder.layer4.1.bn2.num_batches_tracked\", \"semantic_segmentation.encoder.layer4.1.conv3.weight\", \"semantic_segmentation.encoder.layer4.1.bn3.weight\", \"semantic_segmentation.encoder.layer4.1.bn3.bias\", \"semantic_segmentation.encoder.layer4.1.bn3.running_mean\", \"semantic_segmentation.encoder.layer4.1.bn3.running_var\", \"semantic_segmentation.encoder.layer4.1.bn3.num_batches_tracked\", \"semantic_segmentation.encoder.layer4.2.conv1.weight\", \"semantic_segmentation.encoder.layer4.2.bn1.weight\", \"semantic_segmentation.encoder.layer4.2.bn1.bias\", \"semantic_segmentation.encoder.layer4.2.bn1.running_mean\", \"semantic_segmentation.encoder.layer4.2.bn1.running_var\", \"semantic_segmentation.encoder.layer4.2.bn1.num_batches_tracked\", \"semantic_segmentation.encoder.layer4.2.conv2.weight\", \"semantic_segmentation.encoder.layer4.2.bn2.weight\", \"semantic_segmentation.encoder.layer4.2.bn2.bias\", \"semantic_segmentation.encoder.layer4.2.bn2.running_mean\", \"semantic_segmentation.encoder.layer4.2.bn2.running_var\", \"semantic_segmentation.encoder.layer4.2.bn2.num_batches_tracked\", \"semantic_segmentation.encoder.layer4.2.conv3.weight\", \"semantic_segmentation.encoder.layer4.2.bn3.weight\", \"semantic_segmentation.encoder.layer4.2.bn3.bias\", \"semantic_segmentation.encoder.layer4.2.bn3.running_mean\", \"semantic_segmentation.encoder.layer4.2.bn3.running_var\", \"semantic_segmentation.encoder.layer4.2.bn3.num_batches_tracked\", \"semantic_segmentation.decoder.blocks.0.conv1.0.weight\", \"semantic_segmentation.decoder.blocks.0.conv1.1.weight\", \"semantic_segmentation.decoder.blocks.0.conv1.1.bias\", \"semantic_segmentation.decoder.blocks.0.conv1.1.running_mean\", \"semantic_segmentation.decoder.blocks.0.conv1.1.running_var\", \"semantic_segmentation.decoder.blocks.0.conv1.1.num_batches_tracked\", \"semantic_segmentation.decoder.blocks.0.conv2.0.weight\", \"semantic_segmentation.decoder.blocks.0.conv2.1.weight\", \"semantic_segmentation.decoder.blocks.0.conv2.1.bias\", \"semantic_segmentation.decoder.blocks.0.conv2.1.running_mean\", \"semantic_segmentation.decoder.blocks.0.conv2.1.running_var\", \"semantic_segmentation.decoder.blocks.0.conv2.1.num_batches_tracked\", \"semantic_segmentation.decoder.blocks.1.conv1.0.weight\", \"semantic_segmentation.decoder.blocks.1.conv1.1.weight\", \"semantic_segmentation.decoder.blocks.1.conv1.1.bias\", \"semantic_segmentation.decoder.blocks.1.conv1.1.running_mean\", \"semantic_segmentation.decoder.blocks.1.conv1.1.running_var\", \"semantic_segmentation.decoder.blocks.1.conv1.1.num_batches_tracked\", \"semantic_segmentation.decoder.blocks.1.conv2.0.weight\", \"semantic_segmentation.decoder.blocks.1.conv2.1.weight\", \"semantic_segmentation.decoder.blocks.1.conv2.1.bias\", \"semantic_segmentation.decoder.blocks.1.conv2.1.running_mean\", \"semantic_segmentation.decoder.blocks.1.conv2.1.running_var\", \"semantic_segmentation.decoder.blocks.1.conv2.1.num_batches_tracked\", \"semantic_segmentation.decoder.blocks.2.conv1.0.weight\", \"semantic_segmentation.decoder.blocks.2.conv1.1.weight\", \"semantic_segmentation.decoder.blocks.2.conv1.1.bias\", \"semantic_segmentation.decoder.blocks.2.conv1.1.running_mean\", \"semantic_segmentation.decoder.blocks.2.conv1.1.running_var\", \"semantic_segmentation.decoder.blocks.2.conv1.1.num_batches_tracked\", \"semantic_segmentation.decoder.blocks.2.conv2.0.weight\", \"semantic_segmentation.decoder.blocks.2.conv2.1.weight\", \"semantic_segmentation.decoder.blocks.2.conv2.1.bias\", \"semantic_segmentation.decoder.blocks.2.conv2.1.running_mean\", \"semantic_segmentation.decoder.blocks.2.conv2.1.running_var\", \"semantic_segmentation.decoder.blocks.2.conv2.1.num_batches_tracked\", \"semantic_segmentation.decoder.blocks.3.conv1.0.weight\", \"semantic_segmentation.decoder.blocks.3.conv1.1.weight\", \"semantic_segmentation.decoder.blocks.3.conv1.1.bias\", \"semantic_segmentation.decoder.blocks.3.conv1.1.running_mean\", \"semantic_segmentation.decoder.blocks.3.conv1.1.running_var\", \"semantic_segmentation.decoder.blocks.3.conv1.1.num_batches_tracked\", \"semantic_segmentation.decoder.blocks.3.conv2.0.weight\", \"semantic_segmentation.decoder.blocks.3.conv2.1.weight\", \"semantic_segmentation.decoder.blocks.3.conv2.1.bias\", \"semantic_segmentation.decoder.blocks.3.conv2.1.running_mean\", \"semantic_segmentation.decoder.blocks.3.conv2.1.running_var\", \"semantic_segmentation.decoder.blocks.3.conv2.1.num_batches_tracked\", \"semantic_segmentation.decoder.blocks.4.conv1.0.weight\", \"semantic_segmentation.decoder.blocks.4.conv1.1.weight\", \"semantic_segmentation.decoder.blocks.4.conv1.1.bias\", \"semantic_segmentation.decoder.blocks.4.conv1.1.running_mean\", \"semantic_segmentation.decoder.blocks.4.conv1.1.running_var\", \"semantic_segmentation.decoder.blocks.4.conv1.1.num_batches_tracked\", \"semantic_segmentation.decoder.blocks.4.conv2.0.weight\", \"semantic_segmentation.decoder.blocks.4.conv2.1.weight\", \"semantic_segmentation.decoder.blocks.4.conv2.1.bias\", \"semantic_segmentation.decoder.blocks.4.conv2.1.running_mean\", \"semantic_segmentation.decoder.blocks.4.conv2.1.running_var\", \"semantic_segmentation.decoder.blocks.4.conv2.1.num_batches_tracked\", \"semantic_segmentation.segmentation_head.0.weight\", \"semantic_segmentation.segmentation_head.0.bias\". \n",
      "\n",
      "During handling of the above exception, another exception occurred:\n",
      "\n",
      "Traceback (most recent call last):\n",
      "  File \"c:\\Users\\adeel\\AppData\\Local\\Programs\\Python\\Python310\\lib\\site-packages\\IPython\\core\\interactiveshell.py\", line 1993, in showtraceback\n",
      "    stb = self.InteractiveTB.structured_traceback(\n",
      "  File \"c:\\Users\\adeel\\AppData\\Local\\Programs\\Python\\Python310\\lib\\site-packages\\IPython\\core\\ultratb.py\", line 1118, in structured_traceback\n",
      "    return FormattedTB.structured_traceback(\n",
      "  File \"c:\\Users\\adeel\\AppData\\Local\\Programs\\Python\\Python310\\lib\\site-packages\\IPython\\core\\ultratb.py\", line 1012, in structured_traceback\n",
      "    return VerboseTB.structured_traceback(\n",
      "  File \"c:\\Users\\adeel\\AppData\\Local\\Programs\\Python\\Python310\\lib\\site-packages\\IPython\\core\\ultratb.py\", line 865, in structured_traceback\n",
      "    formatted_exception = self.format_exception_as_a_whole(etype, evalue, etb, number_of_lines_of_context,\n",
      "  File \"c:\\Users\\adeel\\AppData\\Local\\Programs\\Python\\Python310\\lib\\site-packages\\IPython\\core\\ultratb.py\", line 818, in format_exception_as_a_whole\n",
      "    frames.append(self.format_record(r))\n",
      "  File \"c:\\Users\\adeel\\AppData\\Local\\Programs\\Python\\Python310\\lib\\site-packages\\IPython\\core\\ultratb.py\", line 736, in format_record\n",
      "    result += ''.join(_format_traceback_lines(frame_info.lines, Colors, self.has_colors, lvals))\n",
      "  File \"c:\\Users\\adeel\\AppData\\Local\\Programs\\Python\\Python310\\lib\\site-packages\\stack_data\\utils.py\", line 145, in cached_property_wrapper\n",
      "    value = obj.__dict__[self.func.__name__] = self.func(obj)\n",
      "  File \"c:\\Users\\adeel\\AppData\\Local\\Programs\\Python\\Python310\\lib\\site-packages\\stack_data\\core.py\", line 698, in lines\n",
      "    pieces = self.included_pieces\n",
      "  File \"c:\\Users\\adeel\\AppData\\Local\\Programs\\Python\\Python310\\lib\\site-packages\\stack_data\\utils.py\", line 145, in cached_property_wrapper\n",
      "    value = obj.__dict__[self.func.__name__] = self.func(obj)\n",
      "  File \"c:\\Users\\adeel\\AppData\\Local\\Programs\\Python\\Python310\\lib\\site-packages\\stack_data\\core.py\", line 649, in included_pieces\n",
      "    pos = scope_pieces.index(self.executing_piece)\n",
      "  File \"c:\\Users\\adeel\\AppData\\Local\\Programs\\Python\\Python310\\lib\\site-packages\\stack_data\\utils.py\", line 145, in cached_property_wrapper\n",
      "    value = obj.__dict__[self.func.__name__] = self.func(obj)\n",
      "  File \"c:\\Users\\adeel\\AppData\\Local\\Programs\\Python\\Python310\\lib\\site-packages\\stack_data\\core.py\", line 628, in executing_piece\n",
      "    return only(\n",
      "  File \"c:\\Users\\adeel\\AppData\\Local\\Programs\\Python\\Python310\\lib\\site-packages\\executing\\executing.py\", line 164, in only\n",
      "    raise NotOneValueFound('Expected one value, found 0')\n",
      "executing.executing.NotOneValueFound: Expected one value, found 0\n"
     ]
    }
   ],
   "source": [
    "model.load(r'D:\\AKG\\GSN\\Human-Path-Prediction\\ynet\\pretrained_models\\sdd_longterm_weights.pt')"
   ]
  },
  {
   "cell_type": "markdown",
   "id": "60033a1f",
   "metadata": {},
   "source": [
    "#### Evaluate model"
   ]
  },
  {
   "cell_type": "code",
   "execution_count": 27,
   "id": "optional-colleague",
   "metadata": {},
   "outputs": [
    {
     "name": "stdout",
     "output_type": "stream",
     "text": [
      "Preprocess data\n"
     ]
    },
    {
     "name": "stderr",
     "output_type": "stream",
     "text": [
      "Prepare Dataset: 100%|██████████| 11/11 [00:00<00:00, 1075.39it/s]\n"
     ]
    },
    {
     "ename": "ValueError",
     "evalue": "setting an array element with a sequence. The requested array has an inhomogeneous shape after 1 dimensions. The detected shape was (11,) + inhomogeneous part.",
     "output_type": "error",
     "traceback": [
      "\u001b[1;31m---------------------------------------------------------------------------\u001b[0m",
      "\u001b[1;31mValueError\u001b[0m                                Traceback (most recent call last)",
      "\u001b[1;32md:\\AKG\\GSN\\Human-Path-Prediction\\ynet\\evaluate_SDD_longterm.ipynb Cell 14\u001b[0m in \u001b[0;36m<cell line: 1>\u001b[1;34m()\u001b[0m\n\u001b[1;32m----> <a href='vscode-notebook-cell:/d%3A/AKG/GSN/Human-Path-Prediction/ynet/evaluate_SDD_longterm.ipynb#X16sZmlsZQ%3D%3D?line=0'>1</a>\u001b[0m model\u001b[39m.\u001b[39;49mevaluate(df_test, params, image_path\u001b[39m=\u001b[39;49mTEST_IMAGE_PATH,\n\u001b[0;32m      <a href='vscode-notebook-cell:/d%3A/AKG/GSN/Human-Path-Prediction/ynet/evaluate_SDD_longterm.ipynb#X16sZmlsZQ%3D%3D?line=1'>2</a>\u001b[0m                batch_size\u001b[39m=\u001b[39;49mBATCH_SIZE, rounds\u001b[39m=\u001b[39;49mROUNDS, \n\u001b[0;32m      <a href='vscode-notebook-cell:/d%3A/AKG/GSN/Human-Path-Prediction/ynet/evaluate_SDD_longterm.ipynb#X16sZmlsZQ%3D%3D?line=2'>3</a>\u001b[0m                num_goals\u001b[39m=\u001b[39;49mNUM_GOALS, num_traj\u001b[39m=\u001b[39;49mNUM_TRAJ, device\u001b[39m=\u001b[39;49m\u001b[39mNone\u001b[39;49;00m, dataset_name\u001b[39m=\u001b[39;49mDATASET_NAME)\n",
      "File \u001b[1;32md:\\AKG\\GSN\\Human-Path-Prediction\\ynet\\model.py:380\u001b[0m, in \u001b[0;36mYNet.evaluate\u001b[1;34m(self, data, params, image_path, batch_size, num_goals, num_traj, rounds, device, dataset_name)\u001b[0m\n\u001b[0;32m    376\u001b[0m \tseg_mask \u001b[39m=\u001b[39m \u001b[39mFalse\u001b[39;00m\n\u001b[0;32m    378\u001b[0m test_images \u001b[39m=\u001b[39m create_images_dict(data, image_path\u001b[39m=\u001b[39mimage_path, image_file\u001b[39m=\u001b[39mimage_file_name)\n\u001b[1;32m--> 380\u001b[0m test_dataset \u001b[39m=\u001b[39m SceneDataset(data, resize\u001b[39m=\u001b[39;49mparams[\u001b[39m'\u001b[39;49m\u001b[39mresize\u001b[39;49m\u001b[39m'\u001b[39;49m], total_len\u001b[39m=\u001b[39;49mtotal_len)\n\u001b[0;32m    381\u001b[0m test_loader \u001b[39m=\u001b[39m DataLoader(test_dataset, batch_size\u001b[39m=\u001b[39m\u001b[39m1\u001b[39m, collate_fn\u001b[39m=\u001b[39mscene_collate)\n\u001b[0;32m    383\u001b[0m \u001b[39m# Preprocess images, in particular resize, pad and normalize as semantic segmentation backbone requires\u001b[39;00m\n",
      "File \u001b[1;32md:\\AKG\\GSN\\Human-Path-Prediction\\ynet\\utils\\dataloader.py:15\u001b[0m, in \u001b[0;36mSceneDataset.__init__\u001b[1;34m(self, data, resize, total_len)\u001b[0m\n\u001b[0;32m      7\u001b[0m \u001b[39mdef\u001b[39;00m \u001b[39m__init__\u001b[39m(\u001b[39mself\u001b[39m, data, resize, total_len):\n\u001b[0;32m      8\u001b[0m \u001b[39m\t\u001b[39m\u001b[39m\"\"\" Dataset that contains the trajectories of one scene as one element in the list. It doesn't contain the\u001b[39;00m\n\u001b[0;32m      9\u001b[0m \u001b[39m\timages to save memory.\u001b[39;00m\n\u001b[0;32m     10\u001b[0m \u001b[39m\t:params data (pd.DataFrame): Contains all trajectories\u001b[39;00m\n\u001b[0;32m     11\u001b[0m \u001b[39m\t:params resize (float): image resize factor, to also resize the trajectories to fit image scale\u001b[39;00m\n\u001b[0;32m     12\u001b[0m \u001b[39m\t:params total_len (int): total time steps, i.e. obs_len + pred_len\u001b[39;00m\n\u001b[0;32m     13\u001b[0m \u001b[39m\t\"\"\"\u001b[39;00m\n\u001b[1;32m---> 15\u001b[0m \t\u001b[39mself\u001b[39m\u001b[39m.\u001b[39mtrajectories, \u001b[39mself\u001b[39m\u001b[39m.\u001b[39mmeta, \u001b[39mself\u001b[39m\u001b[39m.\u001b[39mscene_list \u001b[39m=\u001b[39m \u001b[39mself\u001b[39;49m\u001b[39m.\u001b[39;49msplit_trajectories_by_scene(data, total_len)\n\u001b[0;32m     16\u001b[0m \t\u001b[39mself\u001b[39m\u001b[39m.\u001b[39mtrajectories \u001b[39m=\u001b[39m \u001b[39mself\u001b[39m\u001b[39m.\u001b[39mtrajectories \u001b[39m*\u001b[39m resize\n",
      "File \u001b[1;32md:\\AKG\\GSN\\Human-Path-Prediction\\ynet\\utils\\dataloader.py:35\u001b[0m, in \u001b[0;36mSceneDataset.split_trajectories_by_scene\u001b[1;34m(self, data, total_len)\u001b[0m\n\u001b[0;32m     33\u001b[0m \tmeta\u001b[39m.\u001b[39mappend(meta_df)\n\u001b[0;32m     34\u001b[0m \tscene_list\u001b[39m.\u001b[39mappend(meta_df\u001b[39m.\u001b[39miloc()[\u001b[39m0\u001b[39m:\u001b[39m1\u001b[39m]\u001b[39m.\u001b[39msceneId\u001b[39m.\u001b[39mitem())\n\u001b[1;32m---> 35\u001b[0m \u001b[39mreturn\u001b[39;00m np\u001b[39m.\u001b[39;49marray(trajectories), meta, scene_list\n",
      "\u001b[1;31mValueError\u001b[0m: setting an array element with a sequence. The requested array has an inhomogeneous shape after 1 dimensions. The detected shape was (11,) + inhomogeneous part."
     ]
    }
   ],
   "source": [
    "model.evaluate(df_test, params, image_path=TEST_IMAGE_PATH,\n",
    "               batch_size=BATCH_SIZE, rounds=ROUNDS, \n",
    "               num_goals=NUM_GOALS, num_traj=NUM_TRAJ, device=None, dataset_name=DATASET_NAME)"
   ]
  },
  {
   "cell_type": "code",
   "execution_count": null,
   "id": "provincial-plymouth",
   "metadata": {},
   "outputs": [],
   "source": []
  }
 ],
 "metadata": {
  "kernelspec": {
   "display_name": "Python 3",
   "language": "python",
   "name": "python3"
  },
  "language_info": {
   "codemirror_mode": {
    "name": "ipython",
    "version": 3
   },
   "file_extension": ".py",
   "mimetype": "text/x-python",
   "name": "python",
   "nbconvert_exporter": "python",
   "pygments_lexer": "ipython3",
   "version": "3.10.4"
  }
 },
 "nbformat": 4,
 "nbformat_minor": 5
}
